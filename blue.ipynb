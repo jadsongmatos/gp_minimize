{
 "cells": [
  {
   "cell_type": "code",
   "execution_count": 1,
   "metadata": {},
   "outputs": [
    {
     "name": "stderr",
     "output_type": "stream",
     "text": [
      "None of PyTorch, TensorFlow >= 2.0, or Flax have been found. Models won't be available and only tokenizers, configuration and file/data utilities can be used.\n"
     ]
    }
   ],
   "source": [
    "from transformers import AutoTokenizer\n",
    "from nltk.translate.bleu_score import sentence_bleu, SmoothingFunction\n",
    "\n",
    "#word_tokenize = AutoTokenizer.from_pretrained(\"suayptalha/DeepSeek-R1-Distill-Qwen-0.5B-CoMa\")\n",
    "word_tokenize = AutoTokenizer.from_pretrained(\"deepseek-ai/DeepSeek-R1-Distill-Qwen-1.5B\")\n",
    "\n",
    "def calcular_bleu(texto_gerado, texto_referencia):\n",
    "    referencia = [word_tokenize(texto_referencia).input_ids]\n",
    "    gerado = word_tokenize(texto_gerado).input_ids\n",
    "    smoothie = SmoothingFunction().method1  \n",
    "\n",
    "    return sentence_bleu(referencia, gerado, smoothing_function=smoothie)"
   ]
  },
  {
   "cell_type": "code",
   "execution_count": 2,
   "metadata": {},
   "outputs": [
    {
     "name": "stdout",
     "output_type": "stream",
     "text": [
      "\n",
      "Similaridade entre frase e documento: 0.10\n",
      "\n",
      "Diff entre frase e documento: 0.90\n"
     ]
    }
   ],
   "source": [
    "sim_score = calcular_bleu(\n",
    "    \"As a general guideline, how much protein should a female eat\",\n",
    "    \"As a general guideline, the CDC's average requirement of protein for women ages 19 to 70 is 46 grams per day.\"\n",
    ")\n",
    "print(f\"\\nSimilaridade entre frase e documento: {sim_score:.2f}\")\n",
    "dif_score = 1-sim_score\n",
    "print(f\"\\nDiff entre frase e documento: {dif_score:.2f}\")"
   ]
  },
  {
   "cell_type": "code",
   "execution_count": 3,
   "metadata": {},
   "outputs": [],
   "source": [
    "import requests\n",
    "\n",
    "def create_completion(prompt, max_tokens, temperature, top_p, top_k):\n",
    "\ttry:\n",
    "\t\tresponse = requests.post(\"http://localhost:1234/v1/completions\", json={\n",
    "\t\t\t\"model\": \"deepseek-r1-distill-qwen-1.5b\",\n",
    "\t\t\t\"prompt\": prompt,\n",
    "\t\t\t\"max_tokens\": int(max_tokens),\n",
    "\t\t\t\"temperature\": float(temperature),\n",
    "\t\t\t\"top_p\": float(top_p),\n",
    "\t\t\t\"top_k\": int(top_k),\n",
    "\t\t\t\"stream\": False\n",
    "\t\t})\n",
    "\t\tresponse.raise_for_status()  # Lança erro se o status HTTP for 4xx ou 5xx\n",
    "\t\tresult = response.json()\n",
    "\t\treturn result['choices'][0]['text']\n",
    "\texcept Exception as e:\n",
    "\t\tprint(\"Erro em create_completion:\")\n",
    "\t\tprint(f\"Prompt: {prompt[:15]}...\")\n",
    "\t\tprint(f\"Parâmetros: max_tokens={max_tokens}, temperature={temperature}, top_p={top_p}, top_k={top_k}\")\n",
    "\t\tprint(f\"Erro: {e}\")\n",
    "\t\texit"
   ]
  },
  {
   "cell_type": "code",
   "execution_count": 4,
   "metadata": {},
   "outputs": [],
   "source": [
    "from datasets import load_dataset\n",
    "ds_stream = load_dataset(\"ccdv/arxiv-summarization\", \"section\", split=\"test\", streaming=True)"
   ]
  },
  {
   "cell_type": "code",
   "execution_count": 5,
   "metadata": {},
   "outputs": [],
   "source": [
    "import threading\n",
    "import random\n",
    "\n",
    "class SampleReservoir:\n",
    "    def __init__(self, stream, k, max_items=None):\n",
    "        self.stream = stream\n",
    "        self.k = k\n",
    "        self.max_items = max_items\n",
    "        self.reservoir = []\n",
    "        self.lock = threading.Lock()\n",
    "        self.done = False\n",
    "\n",
    "    def update(self):\n",
    "        # Algoritmo de amostragem de reservatório com proteção de acesso\n",
    "        for i, item in enumerate(self.stream):\n",
    "            if self.max_items is not None and i >= self.max_items:\n",
    "                break\n",
    "            with self.lock:\n",
    "                if i < self.k:\n",
    "                    self.reservoir.append(item)\n",
    "                else:\n",
    "                    j = random.randint(0, i)\n",
    "                    if j < self.k:\n",
    "                        self.reservoir[j] = item\n",
    "        self.done = True\n",
    "        print(\"done\")\n",
    "\n",
    "    def get_samples(self):\n",
    "        with self.lock:\n",
    "            # Retorna uma cópia do reservoir atual\n",
    "            return list(self.reservoir)\n",
    "\n",
    "# Inicializa o objeto do reservoir\n",
    "reservoir = SampleReservoir(ds_stream, k=5, max_items=5000)\n",
    "\n",
    "# Inicia a thread de atualização (em background)\n",
    "update_thread = threading.Thread(target=reservoir.update, daemon=True)\n",
    "update_thread.start()"
   ]
  },
  {
   "cell_type": "code",
   "execution_count": 11,
   "metadata": {},
   "outputs": [
    {
     "data": {
      "text/plain": [
       "[{'article': 'the x - ray transient xte  j1752@xmath0223 was discovered by the _ rossi x - ray timing explorer _ ( _ rxte _ ) on 2009 october 23 . the 2010 outburst of xte  j1752@xmath0223 was monitored by the _ \\n @xcite , the _ monitor of all - sky x - ray image _ ( _ maxi _ , * ? ? ? \\n * ) , and _ swift _ @xcite in the x - ray domain . \\n the outburst exhibited an evolving behavior in agreement with what would be expected from a stellar mass black hole binary .    in the preceding low - hard x - ray state , \\n the radio counterpart was identified by the atca ( australia telescope compact array ) with a flux density of @xmath12  mjy and a flat spectrum consistent with that of a compact jet @xcite . \\n xte  j1752@xmath0223 started to transit toward a high - soft x - ray state around 2010 january 20 ( e.g. * ? ? ? * ) . \\n a 10-fold increase of radio flux density and a flat spectrum were observed by the atca on 2010 january 21 @xcite . \\n the increased flux density suggested that a major ejection was imminent @xcite and , indeed , a transient jet was detected by the rapid - response evn ( european vlbi newtork ) observations on 2010 february 11 . \\n the transitions from a low - hard x - ray state toward a high - soft x - ray state are in fact , commonly associated with discrete ejection events @xcite . \\n together with follow - up vlba ( very long baseline array ) observations in 2010 february , the transient jet was found to show significant deceleration , possibly due to the jet interaction with the surrounding medium ( * ? ? ? \\n * hereafter paper  i ) .     +    in this paper we present results from the additional three epochs that show a new transient ejection event and later a stationary feature which we identify as the core . \\n the observations and data reduction are briefly described in section  [ sec2 ] . \\n the very long baseline interferometry ( vlbi ) as well as the westerbork synthesis radio telescope ( wsrt ) imaging results are presented in section  [ sec3 ] . the proper motion of a transient ejecta detected in one of our earlier observations is analyzed in section  [ sec4 ] . \\n we discuss our results on the compact jet region , the proper motion of the transient ejecta and their possible interaction with the large - scale medium in section  [ sec5 ] . \\n all the vlbi experiments observed at 5  ghz during the 2010 outburst of xte  j1752@xmath0223 are listed in table  [ tab1 ] . \\n the observations before march 2010 were already presented in paper  i. additional evn observations were carried out on 2010 march 22 , including effelsberg , the phased array wsrt , onsala , medicina , noto , toru , and the lovell telescope . there were two epochs of vlba observations on 2010 april 25 and 29 using the whole telescope array . \\n all the experiments used the same phase - referencing source ( pmn  j1755@xmath02232 ) and the same duty - cycle . \\n the vlbi calibration procedure was identical as well , and it is described in paper  i. we note that the new evn observations show a weak extended jet in the calibrator source , but since the radio core accounts for @xmath190% of the emission , this extension did not have a significant effect on the phase calibration in the first four epochs . in the wsrt data , we did self - calibration on pmn  j1755@xmath02232 and applied the solutions to the target . \\n .the characteristics of vlbi images in figure  [ fig1 ] . [ cols=\"^,^,^,^,^,^,^ \" , ]     223 component b. the straight line in the right panel shows the least - square fitting results : @xmath2  masd@xmath3 . note that the horizontal dotted line crossing each data point gives the bin length . \\n the right panel shows the variation of the peak brightness after applying a series of proper motion corrections along the jet direction , as described in the text . \\n , title=\"fig:\",scaledwidth=23.0%,scaledwidth=30.0% ] 223 component b. the straight line in the right panel shows the least - square fitting results : @xmath2  masd@xmath3 . \\n note that the horizontal dotted line crossing each data point gives the bin length . \\n the right panel shows the variation of the peak brightness after applying a series of proper motion corrections along the jet direction , as described in the text . \\n , title=\"fig:\",scaledwidth=23.0%,scaledwidth=30.0% ] + \\n component d was found to have no detectable proper motion with respect to the reference source at the last two vlbi epochs . \\n the only explanation for this is that component d is the radio core of the system . \\n we note that @xcite arrived to the same conclusion first : they independently analyzed data from the last two vlba epochs , and showed that component d was positionally consistent with the optical counterpart of xte  j1752@xmath0223 , within a @xmath4  mas error circle . \\n they had only a 3.5@xmath5 detection on 2010 february 29 . in our analysis \\n , we obtained a considerably higher significance of the detection reaching 5@xmath5 , firmly establishing that component d is related to the core region / compact jet in xte  j1752@xmath0223 and not related to a new transient ejecta .    compared with the most sensitive evn observations of 2010 march 22 during the x - ray soft state , \\n the radio core re - brightened by a factor of @xmath610 . \\n the non - detection in the earlier soft state is unlikely caused by the fast variability because the core was not detected on short time scales . \\n the re - appearance provides a rare case of direct detection of the re - activation of radio emission in the compact jet during the soft to hard x - ray state transition , as described by the unified model for the coupling of accretion and ejection in black hole x - ray binaries @xcite . \\n in fact , _ rxte _ observations on 2010 march 27 have revealed xte  j1752@xmath0223 in transition from the soft to the hard state @xcite . \\n the compact jet appears highly variable . \\n however , we note that the declination of the source is low and the strong apparent variation might be due to poor tropospheric conditions especially at the beginning and end of the observations , when the source elevation was very low \\n . however the atca observations did show significant variations on timescales of days ( brocksopp et al . \\n , in prep . ) . in literature \\n , strong daily variations were also observed in xte  j1720@xmath0318 in the post low hard state @xcite . \\n significant flux density variation on shorter ( @xmath7  day ) time scale were seen in grs  1915@xmath8105 @xcite and xte  j1650@xmath0500 @xcite .      according to the new proper motion measurements , \\n component b is a transient jet component moving toward the same direction as component a ( cf . \\n paper  i ) , in agreement with the core location discussed above . \\n although we could not measure the proper motion of component c in the same way as component b , it lies between components a and b which indicates that there were at least three ejection events revealed by the vlbi observations during the 2010 outburst of xte  j1752@xmath0223 . \\n the source shows a profound one - sided morphology , unprecedented for x - ray black hole binaries with transient ejecta . \\n we searched for the receding jet in the vlbi images including the deep evn image . \\n there were no receding ejecta found . \\n if component a was ejected during the major x - ray outburst around mjd  55218 , a mean proper motion of @xmath128  masd@xmath3 is required to explain the large angular separation from the assumed core . \\n considering the low proper motion of @xmath910  masd@xmath3 observed at the later stage , component a must have an extremely high proper motion at the early stage . the high proper motion observed in component b , an ejecta much closer to the core than component a \\n , indirectly supports the association of component a with the major outburst . as a relativistic jet usually evolves with a decaying luminosity after the ejection , the non - detection of component b observed three days earlier is unlikely due to the insufficient sensitivity . assuming component b was ejected around mjd  55250.6 ( during another flare , brocksopp et al . in prep . \\n ) , its average proper motion is @xmath158  masd@xmath3 , in agreement with our measurements . \\n component b has a high apparent speed of @xmath10.7  c if it is at 3.5  kpc as estimated by @xcite via the spectral - timing correlation scaling technique ( model - dependent ) . \\n however , if the source is located at a larger distance , e.g. near the galactic centre , then xte  j1752@xmath0223 might be another example of superluminal galactic jets , such as grs  1915@xmath8105 @xcite and gro  j1655@xmath040 @xcite . \\n taking into account that component b might have already somewhat decelerated by the time it was detected , xte  j1752@xmath0223 is a promising galactic superluminal source candidate . \\n the resulting doppler deboosting effect may be responsible for the non - detection of the receding transient jets , a rarely - seen property in stellar mass black hole binaries . \\n there might be an extended emission in rough agreement with the position angle of the transient jet between xte  j1752@xmath0223 and g006.3904@xmath801.9844 in figure  [ fig3 ] . \\n such the extended emission might be a large - scale diffuse relic emission associated with the transient . \\n as the limited sensitivity @xmath10  mjy  beam@xmath3 , deep observations at lower frequencies are required to confirm its existence . \\n a jet - blown bubble , @xmath15  pc in diameter , is found in  cygnus x-1 @xcite . \\n it is inferred that there exists a cavity surrounding microquasars @xcite . \\n as xte  j1752@xmath0223 showed strong jet decelerations , it is a promising candidate for the deep observations to hunt for the extended emission region . \\n we investigated the proper motion of the closest ejecta to the assumed core among the detected transient jet components in the 2010 outburst of xte  j1752@xmath0223 . \\n besides measuring proper motion through splitting the experiment into a few time bins , we looked for a proper motion via monitoring the variation of the image peak brightness of the proper motion - corrected visibility data . \\n both ways give a very high proper motion and imply that the ejections are at least mildly relativistic . \\n we also reported the detection of another new ejecta observed at the end of 2010 march . \\n we provided another independent vlbi identification of the compact jet and have shown that it might be highly variable . \\n moreover , we found a hint on the large - scale extended emission in the field of xte  j1752@xmath0223 with the wsrt observations . \\n we thank the evn programme committee and the vlba proposal selection committee for prompt approval of our observations . \\n e - vlbi developments in europe were supported by the ec dg - infso funded communication network developments project expres . the national radio astronomy observatory is a facility of the national science foundation operated under cooperative agreement by associated universities , inc . the evn is a joint facility of european , chinese , south african and other radio astronomy institutes funded by their national research councils . \\n the wsrt is operated by astron with support from the netherlands foundation for scientific research .',\n",
       "  'abstract': 'the galactic x - ray transient xte  j1752@xmath0223 was shown to have properties of black hole binary candidates . as reported in our previous paper , we identified transient and decelerating ejecta in multi - epoch very long baseline interferometry ( vlbi ) observations with the european vlbi network ( evn ) and the nrao very long baseline array ( vlba ) . here \\n we present new evn and vlba data in which a new transient ejection event and later a stationary component are identified . \\n the latter is interpreted as a reappearance of the radio core / compact jet during the transition from soft to hard x - ray state . \\n this component appears to be highly variable in brightness although effects of tropospheric instabilities might play a role too . \\n we also re - analyze the earlier vlbi data and find that the transient ejecta closer to the core position has significantly higher proper motion , further strengthening the case for strongly decelerating ejecta on the scale of several hundred milli - arcsecond , never observed in x - ray binaries before . \\n although the distance of the source is not well constrained , it is clear that these ejectas are at least mildly relativistic at the early stages . \\n moreover , we show the large scale environment of the transient from the westerbork synthesis array data recorded in parallel during the evn run . \\n [ firstpage ]    stars : individual : xte  j1752@xmath0223  stars : variable : others  ism : jets and outflows  radio continuum : stars  x - rays : binaries .'},\n",
       " {'article': 'standardised type - ia supernovae ( sn ) have been extensively studied to probe the expansion of the universe for the past decade ( e.g. riess , press @xmath7 kirshner @xcite ; @xcite ) . \\n the mechanisms that rule these cosmic explosions are not fully understood . a better knowledge of their environment and of their host galaxies is important to understand possible systematics , which could affect these cosmological probes ( e.g. * ? ? ? \\n * ) , and the progenitor systems , which are also important for the evolution of galaxies ( e.g. * ? ? ? \\n * ; * ? ? ? \\n * ; * ? ? ? \\n the known scatter of the snia standard candles is corrected empirically on the basis of the observed tight correlation between the peak luminosity and the decline rate of the light curve @xcite . \\n standardised snia detected at high - z do not exhibit any sign of residual extinction ( e.g. * ? ? ? \\n * ; * ? ? ? \\n * ; * ? ? ? \\n * ; * ? ? ? \\n * ) , as selection effects most probably eliminate the most obscured sn . \\n a submillimetre survey of 31 sn - ia hosts @xcite has detected two strong sources at 850  @xmath1 m at the @xmath8 level . \\n it was surprising to find submillimetre - bright galaxies in this sample of sn - ia hosts . \\n nevertheless , this strengthens the observation of the correlation of the snia rate with the star - formation rate ( sfr ) ( e.g. * ? ? ? \\n * ; * ? ? ? \\n * ) , and the evidence ( e.g. mannucci , della valle @xmath7 panagia @xcite ; @xcite ) of the possible association of one type of snia with recent star - formation . in addition , according to their optical morphology @xcite , these submillimetre - bright hosts look like ordinary disc galaxies . in order to try to better understand the nature of these hosts \\n , we try to observe the co lines of sn1997ey host , whose continuum has also been detected at 450  @xmath1 m at the @xmath9 level . \\n +    in section [ label : charac ] , we discuss the characteristics of this host galaxy relying on data archives . in section [ label : \\n co ] , we present the co observations performed at iram-30 m . in section [ \\n label : discussion ] , we discuss these results .    throughout this paper , \\n we adopt a flat cosmology , with @xmath10 , @xmath11 and @xmath12  kms@xmath5mpc@xmath5 @xcite . \\n sn1997ey host has been initially detected as the host of a type ia supernova ( sn1997ey , * ? ? ? \\n it was first detected with ground - based photometry ( @xmath13 , pain 2004 , private communication ) . \\n its spectroscopic redshift ( @xmath0 ) was determined with the keck telescope @xcite . \\n it was then observed by _ \\n hst_/stis ( _ hst _ proposal 8313 , ellis ( 1999 ) , see also fig . \\n [ fig : imaging ] ) . \\n more recently , investigating its dust content , @xcite detected the submillimetric continuum of this galaxy at 450 and 850  @xmath1 m . \\n we review in this section these properties in more details . \\n oii@xmath14 $ ] ( 3727  @xmath15 ) , h@xmath16 ( 4861  @xmath15 ) and @xmath17oiii@xmath14 $ ] ( 5007  @xmath15 ) luminosities . the measured flux , after baseline subtraction \\n , is displayed in function of the observed wavelength . from these luminosities , we derived estimates of the sfr and of the metallicity of this host galaxy ( see section [ ssec : opticalspec ] ) . \\n , scaledwidth=48.0% ]    the supernova cosmology project ( 2007 , private communication ) took a spectrum of the supernova close to maximum with low resolution imaging spectrometer ( lris ) on the keck telescope on 1997 december 31 , as displayed in fig . \\n [ fig : spectra ] . \\n the magnitude of the supernova at discovery is @xmath18 , while the @xmath19 magnitude of the host is @xmath20 . \\n this spectrum , obtained with the 1-wide slit aligned on the galaxy centre and the sn position , is a combination of the sn ( @xmath21 ) and the host galaxy ( @xmath22 ) spectra ( scp , hook 2007 , private communication ) . \\n the host spectrum contains stellar absorption lines and some emission lines ( see fig . \\n [ fig : spectra ] ) . in fig . \\n [ fig : spectralines ] , we focus on @xmath17oii@xmath14 $ ] , h@xmath23 and @xmath17oiii@xmath14 $ ] emission lines to characterise the properties of the host . \\n we expect that most of the galaxy flux is contained in this spectrum given the position of the slit . \\n moreover , most of the star - formation activity usually lies in the central part of the galaxy or at least in the galactic plane . \\n last , if we assume that this spectrum continuum contains only 2/3 flux from the host and scale the spectral continuum to match the observed broad band flux in the @xmath19 band ( factor @xmath24 ) , we should multiply the whole spectrum by a factor 2/3@xmath25 . in the following , we estimate that the extra 10 per cent lies within the uncertainties of this procedure and work directly on the spectrum displayed in fig . \\n [ fig : spectra ] . \\n we find @xmath26)=2.5\\\\bmath{\\\\cdot } 10^{33}$ ]  w , @xmath27  w and @xmath28)=7.8\\\\bmath{\\\\cdot } 10^{33}$ ]  w. relying on kewley , geller @xmath7 jansen @xcite , this indicates a moderate on - going star - formation activity of 0.2  m@xmath4yr@xmath5 ( with no extinction correction ) and a solar metallicity . \\n the other balmer lines are not detected in emission ( but possibly in absorption ) , which might suggest some extinction . in parallel , \\n the caii h and k absorption lines are clearly detected and the ratio of caiih and h@xmath29 to caii k is larger than unity , typical for stars with spectral type later than f @xcite . \\n this host contains a significant population of stars older than @xmath30  gyr ( e.g. * ? ? ? \\n we derived the rest - frame b luminosity from the r magnitude of the host @xmath31 , where @xmath32 is defined with the schechter function ( @xmath33 in * ? ? ? * ) . \\n unfortunately , this supernova was not monitored after detection , so no light curve is available . \\n the supernova type and phase were determined by fitting the spectrum with sn and galaxy spectral templates , as described in @xcite . \\n the best matches were all sne ia with a mean epoch of + 2 days and a scatter of 6 days . \\n sn1997ey is located 2.77 from the centre of the host galaxy , which corresponds to a projected distance of 18kpc ( see fig . 1 of * ? ? ? \\n only 2 out of a sample of 15 host galaxies studied by @xcite are detected at an offset larger than 15  kpc and both occurred in e / s0 host galaxies . \\n grb971221 has been detected at ra 73.7@xmath34 and dec 4.7@xmath34 , with an error box ( batse ) of 6.3@xmath34 . \\n the association of sn1997ey and grb971221 , suggested by @xcite , relies on this inaccurate position but also on the time coincidence of the 2 events . as discussed in section [ sec : grb ] , this association is most probably a chance alignment . \\n 56@xmath3558.1@xmath36 -02@xmath34 37@xmath3734.3@xmath38 ) and of sn1997ey ( j2000 04@xmath3956@xmath3558.2@xmath36 -02@xmath3437@xmath3737@xmath38).,title=\"fig : \" ] 56@xmath3558.1@xmath36 -02@xmath34 37@xmath3734.3@xmath38 ) and of sn1997ey ( j2000 04@xmath3956@xmath3558.2@xmath36 -02@xmath3437@xmath3737@xmath38).,title=\"fig : \" ]    we retrieve from the hst archive the stis image obtained by r. ellis in 1999 ( proposal , 4647 ) . \\n we reduce the three available exposures with iraf and used the drizzle procedure to remove the cosmic rays @xcite . in order to better understand the nature of this host \\n , we try to fit different profiles to the stis / hst image using the software package galfit @xcite . \\n the best fit was obtained for one srsic profile with an effective ( half - light ) radius @xmath40  kpc , a power - law index @xmath41 , a diskiness parameter @xmath42 and an axis ratio @xmath43 . \\n we thus estimate an inclination of order 70@xmath34 @xcite . \\n the 10 - 20 per cent residuals are asymmetric along the major axis . \\n this disc structure suggests an inclined sc spiral galaxy . \\n there are several galaxies ( @xmath44 ) in the field of view ( @xmath45 per @xmath45 ) of this image , so this host might be member of a group or a cluster . \\n we derive the continuum spectrum from data archives ( see table [ tab : data ] ) as displayed in fig . \\n [ fig : sn1997eyhost ] . \\n we retrieve data points in the optical and in submillimetre wavelengths as follows : ( 1 ) in the optical , one point was obtained from the scp @xmath13 measurement and the other was derived from a compilation of 3 unfiltered images ( @xmath46 with fwhm@xmath47 ) from the _ \\n hst_/stis archive . \\n they are both consistent . \\n ( 2 ) in the submillimetre range , we use the @xmath8 and @xmath9 scuba detection @xcite at 850 @xmath1 m and 450@xmath1 m . \\n we then derive upper limits from the released all - sky surveys , which observed this position , namely _ galex _ at 150 nm and 227.5 nm , 2mass in @xmath48 , @xmath49 and @xmath50 @xcite , _ iras _ ( 10 , 25 , 60 and 100  @xmath1 m ) and nvss ( nrao vla sky survey ) at 1.4  ghz @xcite . \\n we then compare this continuum spectrum with various templates . \\n first , we superimpose the measurements of the nearby galaxy sample of @xcite , that we normalise to @xmath51  mjy at @xmath52 and shift to the appropriate redshift . second \\n , we add starburst templates obtained by @xcite by fits to hr10 @xcite and ngc6090 @xcite , respectively blue and redshifted to @xmath0 . \\n .data points retrieved from various archives . \\n we provide the observed fluxes ( @xmath53 ) and associated error ( @xmath54 ) or the @xmath55 upper limits obtained or derived from the mentioned archives . \\n [ cols= \" < , < , < , < , < , < \" , ]     [ tab : upper ]     as a function of redshift . \\n upper limit measured here for the studied host is superimposed on previous measurements from @xcite , @xcite , @xcite and sanders , scoville @xmath7 soifer @xcite . \\n we also plot the upper limits from @xcite for grb030329 host and from le floch ( in prep . ) for grb000418 . \\n none of the co - line luminosity has been corrected for gravitational lensing . \\n ( this uncertain correction would lower down some high - z points of this plot ( see e.g. * ? ? ? * ) ) . \\n the lines indicate the 3@xmath56 upper limits for @xmath57  jy km s@xmath5 and take into account the atmospheric windows at iram.,title=\"fig:\",width=302 ] +    fig . \\n [ fig : plotgreve ] displays the upper limits derived from our observations on @xmath58 , compared to previous detections of submillimetre galaxies detected in co @xcite . \\n we also add for comparison the upper limits obtained by @xcite and le floch et al . \\n ( in prep . ) for long grb hosts . \\n we assumed for all grb hosts upper limits based on @xmath59  kms@xmath5 . \\n this figure shows that our measurements are competitive with the current state of the art . \\n on the basis of the optical spectrum ( sfr(@xmath17oii@xmath14 \\\\sim 0.2 $ ]  m@xmath4yr@xmath5 ) , the @xmath60 luminosity ( @xmath61  @xmath3 ) and the co lines upper limits , we can securely exclude that this host galaxy is a strong starburst galaxy . \\n we can derive a star - formation rate per unit luminosity of 0.3  m@xmath4yr@xmath62 . \\n the sfr and the specific sfr for a sc morphological type @xcite , we can estimate a specific sfr of 0.2m@xmath4yr@xmath5@xmath63 . ] \\n are obviously low with respect to the global distribution of galaxies ( see figures 17 , 18 and 19 in * ? ? ? \\n * ) and to the typical submillimetre galaxies ( with a median sfr of 780m@xmath4yr@xmath5 in * ? ? ? \\n the submillimetre flux is difficult to understand . \\n it has been obtained by @xcite on 2002 december 08 , five years after sn1997ey . the comparison with templates ( see fig . \\n [ fig : sn1997eyhost ] ) and the co lines upper limits suggest that the sfr could be of order 30  m@xmath4yr@xmath5 . \\n a factor of order 150 ( extinction in b ) would then be required to explain the @xmath17oii@xmath14 $ ] luminosity . \\n this submillimeter flux requires a heating source as the sole interstellar radiation field of the host galaxy can not heat the dust up to temperatures close to 20  k @xcite . \\n however , nothing suggests an agn component in the optical spectrum nor in the _ rosat _ all - sky survey ( rass ) , while the 1.4  ghz upper limit is compatible with a quiescent or moderate starburst galaxy . \\n alternatively , @xcite discussed that this strong submillimetre flux could correspond to cirrus , which could explain the absence of starburst , and derived a ( cold-)dust mass of 1.3@xmath64  m@xmath4 ( t@xmath65k ) . \\n this is nevertheless quite far - fetched as this would correspond to a very large mass of gas : 2@xmath66  m@xmath4 , assuming a canonical galactic ( cold)dust - to - gas mass ratios of 1/150 , and excluded given our non - detection of the co(2 - 1 ) line and the excitation temperature of co(2 - 1 ) ( t@xmath67 k ) . \\n we thus consider two possible explanations : ( 1 ) the heating source of the large gas mass is hidden in the nucleus and escapes detection . \\n this would require @xmath68 to explain the discrepancy between the [ oii ] emission line and the submillimetre continuum flux . \\n ( 2 ) this host is member of a cluster and is an anemic or passive spiral galaxy @xcite . in this case , one can wonder given the absence of cross - identification in radio if this submillimetre flux might not be associated with a background galaxy rather than with sn1997ey host . if one considers the 8@xmath38 beam ( fwhp ) of scuba at 450@xmath1 m and integrates up to @xmath69 a schechter function ( with @xmath70 , @xmath71mpc@xmath72 , m@xmath73 , * ? ? ? \\n * ) with a uniform galaxy distribution , one expects @xmath74 , @xmath75 and @xmath76 galaxies respectively up to @xmath77 , @xmath78 and @xmath79 . in addition , this should be considered as upper limits as we can observe an over - density in the hst / stis image . \\n it is thus possible that the submillimetre source is not associated to sn1997ey host but to a background object .     for sn2002dc host at @xmath80 @xcite . \\n the @xmath81 , @xmath60 , @xmath82 , @xmath19 , @xmath83 , @xmath84 and @xmath85 data are from @xcite , @xmath86 measurements from fernndez - soto , lanzetta @xmath7 yahil @xcite , @xmath87 ( 1614@xmath15 ) measurement from @xcite , the mid - infrared points from @xcite , @xmath88 and 24  @xmath1 m from @xcite , @xmath89 measurement from @xcite , the scuba point from wang , cowie @xmath7 barger @xcite and @xcite and the 1.4  ghz radio point from @xcite and @xcite.,title=\"fig:\",width=302 ] +    one can mention the case of the host galaxy of sn2002dc , which has been detected at @xmath80 in the goods/ hubble deep field - north field @xcite . \\n @xcite has shown that the submillimetre source hdf850.4 @xcite is well associated with the hdf galaxy 2 - 264.1 @xcite , which also has near - infrared , mid - infrared and radio counter - parts . \\n this supernova belongs to the snia sample observed with spitzer by @xcite and is peculiar in the sense that it has the sole host detected in the submillimetre . \\n this supernova lies at 0.84 from the centre of the spiral galaxy , which corresponds to a projected distance of 4.9  kpc . \\n even though this host is in a starburst phase , it is most probable that the sn exploded in the outskirts of the starburst zone . \\n various values of its sfr have been estimated in the literature and tend to converge towards 25  m@xmath4yr@xmath5 @xcite , while it is a relatively small mass system with @xmath90 . \\n it does not display clear caiih and k absorption lines , but exhibits strong @xmath17oii@xmath14 $ ] and h@xmath23 emission linescowie / tts / hdf17.html ] . \\n it is thus a starbursting galaxy , with a star - formation rate per unit luminosity of 84  m@xmath4yr@xmath62 . for this galaxy , \\n all the observational facts point towards a moderate starburst of 25  m@xmath4yr@xmath5 and 0.3  @xmath3 . \\n we discussed the properties of sn1997ey host . \\n this snia occurred in a late - type system ( 0.7  @xmath32 ) . according to the optical data \\n , this disc galaxy exhibits a residual star - formation activity but no obvious sign of agn activity . in parallel , \\n a 6 and 7@xmath56 submillimetre flux is detected at 450 and 850  @xmath1 m but no heating source explaining this strong continuum submillimetre flux is detected . \\n we search for co lines at @xmath0 in this initially promising galaxy but we have been only able to derive upper limits . \\n we suggest that either the agn / starburst activity is hidden by dust in the nucleus or this host galaxy is anemic or passive and this strong submillimetre source associated with a background galaxy . \\n we thank the referee for her / his detailed comments , which improved the paper , and f. daigne for his helpful advices . \\n we are most grateful to c. pennypacker , who encourages us to study sn hosts . \\n we thank the supernova cosmology project ( scp ) for providing the optical spectrum displayed in fig . 1 , and specially a. spadafora who took the time to get 1997 data from scp archives , i. hook and c. lidman , for providing insight information about this spectrum . \\n we thank r. pain for his contribution at an earlier stage of this project . \\n we thank l. mankiewicz for providing us an early access to the database pi of the sky. we thank the iram staff and the 30-m telescope operators for their assistance with the remote observations performed for this source . \\n this research has made use of the nasa / ipac extragalactic database ( ned ) which is operated by the jet propulsion laboratory , california institute of technology , under contract with the national aeronautics and space administration . \\n some of the data presented in this paper were obtained from the multimission archive at the space telescope science institute ( mast ) . \\n stsci is operated by the association of universities for research in astronomy , inc . \\n , under nasa contract nas5 - 26555 . \\n support for mast for non-_hst _ data is provided by the nasa office of space science via grant nag5 - 7584 and by other grants and contracts . \\n this research has made use of the nasa/ ipac infrared science archive , which is operated by the jet propulsion laboratory , california institute of technology , under contract with the national aeronautics and space administration . \\n this publication makes use of data products from the two micron all sky survey , which is a joint project of the university of massachusetts and the infrared processing and analysis centre / california institute of technology , funded by the national aeronautics and space administration and the national science foundation . \\n 99 astier p. et al . \\n 2006 , a@xmath7a , 447 , 31 bethell t.  j. , zweibel e.  g. , heitsch f. , mathis j.  s.  2004 , apj , 610 , 801 blakeslee j.  p. et al . \\n 2003 , apj , 589 , 693 bosnjak z. , celotti a. , ghirlanda g. , della valle m. , pian e.  2006 , a@xmath7a , 447 , 121 braine j. , combes f.  1992 , a@xmath7a , 264 , 433 calzetti d. , armus l. , bohlin r.  c. , kinney a.  l. , koornneef j. , storchi - bergmann t.   2000 , apj , 533 , 682 capak p. et al . \\n 2004 , aj , 127 , 180 chary r. , dickinson m.  e. , teplitz h.  i. , pope a. , ravindranath s.  2005 , apj , 635 , 1022 clements d.  l. , farrah d. , rowan - robinson m. , afonso j. , priddey r. , fox m.  2005 , mnras , 363 , 229 cohen j.  g. , cowie l.  l. , hogg d.  w. , songaila a. , blandford r. , hu e.  m. , shopbell p.  1996 \\n , apj , 471 , l5 combes f. , maoli r. , omont a.  1999 , a@xmath7a , 345 , 369 combes f.  2004 , new astronomy review , 48 , 583 condon j.  j. , cotton w.  d. , greisen e.  w. , yin q.  f. , perley r.  a. , taylor g.  b. , broderick j.  j.  1998 , aj , 115 , 1693 conley a. et al .   2006 , \\n aj , 132 , 1707 dale d.  a. et al .  2007 , apj , 655 , 863 delgado r.  m.  g. , cervio m. , martins l.  p. , leitherer c. , hauschildt p.  h.  2005 , mnras , 357 , 945 devereux n. , taniguchi y. , sanders d.  b. , nakai n. , young j.  s.  1994 , aj , 107 , 2006 dey a. , graham j.  r. , ivison r.  j. , smail i. , wright g.  s. , liu m.  c.  1999 , apj , 519 , 610 elbaz d. , et al . , 2007 , a&a , 468 , 33 endo a. , et al . , 2007 , apj , 659 , 1431 farrah d. , meikle w.  p.  s. , clements d. , rowan - robinson m. , mattila s.  2002 , mnras , 336 , l17 farrah d. , fox m. , rowan - robinson m. , clements d. , afonso j.   2004 , apj , 603 , 489 fernndez - soto a. , lanzetta k.  m. , yahil a.  1999 , apj , 513 , 34 fruchter a.  s. , hook r.  n. 2002 , pasp , 114 , 144 goldschmidt p. et al . \\n 1997 , mnras , 289 , 465 greve t.  r. et al .   2005 , mnras , 359 , 1165 hamuy m. \\n et al.2003 , nat . , 424 , 651 howell , d.  a. et al .   2005 , \\n apj , 634 , 1190 howell d.  a. , sullivan m. , conley a. , carlberg r.  2007 , apj submitted ; preprint ( astro - ph/0701912 ) iben i. , jr . \\n , tutukov a.  v. , 1984 , apjs , 54 , 335 ivanova n. , heinke c.  o. , rasio f.  a. , taam r.  e. , belczynski k. , fregeau j.  2006 , mnras , 372 , 1043 kewley l.  j. , geller m.  j. , jansen r.  a. , dopita m.  a.  2002 , aj , 124 , 3135 kewley l.  j. , geller m.  j. , jansen r.  a.  2004 , aj , 127 , 2002 king a.  r. , pringle j.  e. , wickramasinghe d.  t. , 2001 , mnras , 320 , l45 levan a.  j. , wynn g.  a. , chapman r. , davies m.  b. , king a.  r. , priddey r.  s. , tanvir n.  r.  2006 , mnras , 368 , l1 levan , a.  j. , et al . \\n 2007 , arxiv e - prints , 705 , arxiv:0705.1705 , mnras accepted mcquade k. , calzetti d. , kinney a.  l. 1995 , apjs , 97 , 331 magee d. et al . \\n 2002 , iau circ . 7908 , 1 mannucci f. , della valle m. , panagia n.  2006 , mnras , 370 , 773 marzke r.  o. , da costa l.  n. , pellegrini p.  s. , willmer c.  n.  a. , geller m.  j.  1998 , apj , 503 , 617 melchior a .- \\n , combes f. , guiderdoni b. , hatton s.  2001 , esa sp-460 : the promise of the herschel space observatory , 467 ; preprint ( astro - ph/0102086 ) narayan r. , paczynski b. , piran t. , 1992 , apj , 395 , l83 nelemans g. , yungelson l.  r. , portegies zwart s.  f. , verbunt f. , 2001 , a&a , 365 , 491 nugent p. , aldering g. , castro p. , nunes n. , quimby r.  1998 , iau circ . \\n , 6804 , 1 osterbrock d.  e. , fulbright j.  p. , martel a.  r. , keane m.  j. , trager s.  c. , basri g. , 1996 , pasp , 108 , 277 paczynski b. , 1991 , aca , 41 , 257 pain r. et al . \\n 2002 , apj , 577 , 120 panagia n. , van dyk s.  d. , weiler k.  w. , sramek r.  a. , stockdale c.  j. , murata k.  p.  2006 , apj , 646 , 369 paturel g. et al . \\n 1997 , a&as , 124 , 109 peng c.  y. , ho l.  c. , impey c.  d. , rix h .- w . \\n , 2002 , aj , 124 , 266 perlmutter s. et al . \\n 1997 , apj , 483 , 565 perlmutter s. et al .  1999 , \\n apj , 517 , 565 phillips m.  m.  1993 , apj , 413 , l105 pope a. , borys c. , scott d. , conselice c. , dickinson m. , mobasher b.  2005 , mnras , 358 , 149 pope a. et al . \\n 2006 , mnras , 370 , 1185 richards e.  a.  2000 , apj , 533 , 611 riess a.  g. , press w.  h. , kirshner r.  p.  1996 , apj , 473 , 88 riess a.  g. et al . \\n 1998 , aj , 116 , 1009 roberts , m.  s. , & haynes , m.  p.  1994 \\n , araa , 32 , 115 rose j.  a.  1985 , aj , 90 , 1927 sadat r. , blanchard a. , guiderdoni b. , silk j.  1998 , a@xmath7a , 331 , l69 saio h. , nomoto k. , 2004 , apj , 615 , 444 sanders d.  b. , scoville n.  z. , soifer b.  t.  1991 , apj , 370 , 158 schwope a. , et al . , 2000 , an , 321 , 1 skrutskie m.  f. et al . \\n 2006 , aj , 131 , 1163 solomon p.  m. , sage l.  j.  1988 , apj , 334 , 613 solomon p.  m. , vanden bout p.  a.  2005 , araa , 43 , 677 solomon p.  m. , downes d. , radford s.  j.  e. , barrett j.  w.  1997 , apj , 478 , 144 goto t. et al . \\n 2003 , pasj , 55 , 757 spergel d.  n. , et al . \\n , 2007 , apjs , 170 , 377 sullivan m. et al . \\n 2003 , mnras , 340 , 1057 sullivan m. et al . \\n 2006 , apj , 648 , 868 teplitz h.  i. et al . \\n 2006 , aj , 132 , 853 wang w .- h . \\n , cowie l.  l. , barger a.  j.  2004 , apj , 613 , 655 williams r.  e. et al . \\n 1996 , aj , 112 , 1335 yao l. , seaquist e.  r. , kuno n. , dunne l.  2003 , apj , 588 , 771 webbink r.  f. , 1984 , apj , 277 , 355    [ lastpage ] \\n @xcite performed a statistical analysis to determine the association rate of grb and sn . \\n they consider both short and long duration bursts as well as core - collapse and type - ia supernovae . \\n surprisingly , the short burst grb971221 has thus been associated with sn1997ey . \\n the burst was detected 1997 december 21 , while the supernova was discovered on december 29 ( expected to be the maximum of the light curve @xmath91 6 days ) . \\n as the maximum of sn - ia light curves is expected @xmath92 days after the explosion @xcite , the association is plausible . \\n however , the error box of 6.3 degree affecting grb050709 position is so large that the probability of a chance alignment is huge . if one integrates up to @xmath69 a schechter function ( with @xmath70 , @xmath71mpc@xmath72 , m@xmath73 , * ? ? ? \\n * ) with a uniform galaxy distribution , one expects @xmath93 ( resp . \\n @xmath94 ) galaxies up to @xmath95 ( resp . \\n @xmath69 ) with m@xmath96 between 18 and 22 ( resp . 24 ) in the grb error box . given the snia rate published by @xcite and assuming an average stellar mass of the galaxies of @xmath97  m@xmath4 , @xmath98 snia are expected per year and per galaxy . given the number of galaxies present in the grb error box and assuming a temporal window of 14 days \\n , one can expect about 140 ( resp . 2000 ) snia , while 0.007 short grb would be expected . \\n we thus consider the association as highly improbable . \\n only a few short grb ( * ? ? ? \\n * and references therein ) were intensively monitored to exclude definitively some association with sn . from a theoretical point of view , short grb \\n are usually thought to be generated by the merger of two neutrons stars or one neutron star with a black hole ( e.g. * ? ? ? \\n * ; * ? ? ? \\n * ) , so no association with snia is expected . \\n however , @xcite suggested that the merger of two white dwarves could lead to the formation of a magnetar , which could produce short grb as studied by @xcite . \\n interestingly , coalescing white dwarf binary is one of the channel considered for the production of snia @xcite , compatible with observations of the population of double white dwarfs in the galaxy @xcite . \\n the result of this coalescence depends on the locus of the carbon ignition , and @xcite argue that it probably occurs in the envelope preventing the explosion of a snia .',\n",
       "  'abstract': 'we study the properties and the molecular content of the host of a type - ia supernova ( sn1997ey ) . \\n this @xmath0 host is the brightest submillimetre source of the sample of type - ia supernova hosts observed at 450@xmath1 m and 850@xmath1 m by @xcite . \\n observations were performed at iram-30 m to search for co(2 - 1 ) and co(3 - 2 ) lines in good weather conditions but no signal was detected . \\n the star formation rate can not exceed 50 @xmath2/yr . \\n these negative results are confronted with an optical analysis of a keck spectrum and other data archives . \\n we reach the conclusion that this galaxy is a late - type system ( 0.7  @xmath3 ) , with a small residual star - formation activity ( 0.2  m@xmath4yr@xmath5 ) detected in the optical . \\n no source of heating ( agn or starburst ) is found to explain the submillimetre - continuum flux and the non - co detection excludes the presence of a large amount of cold gas . \\n we thus suggest that either the star formation activity is hidden in the nucleus ( with @xmath6 ) or this galaxy is passive or anemic and this flux might be associated with a background galaxy . \\n [ firstpage ]    supernovae : individual : sn1997ey  radio lines : galaxies  submillimetre  galaxies : general  methods : observational'},\n",
       " {'article': 'empirical analysis of high - frequency financial data have been attracting significant interest among physicists as well as economists during a decade ( mantegna and stanley 2000 , and dacorogna 2001 ) . \\n many features of financial markets have been clarified by many successive studies . \\n actually it is well - known that the markets have a characteristic time scale in long period ( daily , weekly , and monthly ) . \\n however recent studies ( takayasu 2003 , ohnishi 2004 and mizuno 2004 ) on time - series analyses in financial markets show that the market has a characteristic time scale in short period and propose the reason why traders are mainly using strategies with weighted feedbacks of past prices . furthermore using the self - modulation process takayasu _ \\n et al . _ have found that the characteristic time scale is about 2 minutes in the jpy / usd market ( takayasu 2003 ) ( abbreviated as mt ) .    on the other hand baninec and krawiech and host \\n proposed a possibility that stochastic resonance occurs in markets ( babinec 2002 and krawiech 2003 ) through an ising - like agent model . \\n they suggest that a periodicity in the market results from exogenous periodical information ( abbreviated as bkh ) .    in order to clarify the mechanism of this characteristic time \\n i think that we should examine it on a different standpoint from mt and bkh . \\n both studies focus on prices or price returns . \\n however , in this article , we focus on the number of tick quotes in foreign currency rates ( usd / jpy ) and investigate the statistical properties of them by utilizing the power spectrum technique . as the results of examining the number of tick quotes in usd / jpy market it is found that the power spectrum density ( psd ) has some peaks at about 2 minutes ( the peak frequency depends on the currency markets ) .    in order to explain this phenomena a simple agent model based on double - threshold noisy device ( sato 2004 ) is proposed . from a result of numerical simulations of the model it is found that the high periodicity of the number of tick quotes may happen . \\n this result leads to a hypothesis that this periodicity is caused by common exogenous periodical information . \\n the purposes of this study are as follows : ( 1 ) to examine the number of high - frequency quotes lead us to deeply understand microscopic market activities . \\n ( 2 ) this may provide useful information for market players to consider their trading strategy . \\n the number of ask quotes per minute in usd / jpy is counted for a period of 1998 to 2000 . utilizing the data we calculated three psds for 2,048 points in weekday and average them over the year . \\n the averaged power spectrums on the semi - log scale are shown in fig . \\n [ fig : powerspectrum ] . \\n they all have a peak at 0.4 ( 1/min ) , namely 2.5 minutes . \\n we consider that these peaks exhibit characteristic time scales of dealers activities , i.e. , the dealers act having the periodicity of 2.5 minutes . \\n we introduce a simple agent model based on double - threshold noisy devices in order to understand the characteristic time scales found in the averaged power spectrum density . \\n this model contains @xmath0 dealers and the @xmath1th dealer has double - threshold ( @xmath2 ) to decide buy(1 ) , sell(-1 ) and wait(0 ) , and noise source @xmath3 to model an uncertainty in their mind . \\n we assume that the @xmath1th dealer must choose a decision ( output ) into the three ones @xmath4 based on information ( input ) @xmath5 with an uncertainty @xmath6 in his / her mind :    @xmath7    here we assume that @xmath3 is identically independent gaussian distribution ,    @xmath8    where @xmath9 are standard deviations of the @xmath1th dealer . \\n it is assumed that the input of each dealer is exogenous periodic information @xmath10 , where @xmath11 represents an amplitude , and @xmath12 a frequency . for @xmath13 \\n the dealers feel it good news and tend to decide a buy , while for @xmath14 they do it bad news and to decide a sell . \\n furthermore the number of tick quotes per unit time @xmath15 is defined as @xmath16    for simplicity assume @xmath17 and @xmath18 . \\n obviously the activity @xmath15 is always zero if @xmath19 and @xmath20 , so that , there is no uncertainty of the dealers in their mind and the exogenous information is weaker than the threshold for the dealers to decide their action . \\n however if there is uncertainty @xmath21 then the activity @xmath15 can exhibit periodicity despite of @xmath20 due to stochastic resonance ( see gammaitoni hnggi jung and marchesoni ( 1998 ) ) .    as shown in fig . \\n [ fig : simulation ] it is found that the psd has some peaks from numerical simulations of the dealer model for @xmath21 and @xmath20 . \\n this peak is caused by stochastic resonance .     at @xmath22 , @xmath23 , @xmath24 , and @xmath25 . \\n it has a peak at 0.4 . ] \\n we empirically investigate the number of the tick quotes per unit time in foreign currency market ( usd / jpy ) . \\n it is found that the power spectrum densities of them for a period 1998 to 2000 all have a peak at 0.4 [ 1/min ] . from the results it is \\n conclude that a periodical action of dealers exists .    in order to explain this phenomena \\n a simple dealer model based on the double - threshold noisy devices is proposed . under a hypothesis that the mechanism of this periodicity is stochastic resonance the market activity in the model shows periodicity due to uncertainty of dealers decision even though the exogenous periodical information is weaker than the threshold for dealers to decide their action . in fact this model is a feedforward one \\n , however , real markets contains complicated ( positive and negative ) feedbacks . \\n the future work is to consider the feedbacks to improve the dealer model . \\n moreover the source of this periodicity is open problem . \\n one possibility is an endogenous feedback mechanism of dealers as shown in mt . \\n the other is an exogenous periodical information as shown in this paper . \\n more detailed data analyses let us clarify the mechanism of this phenomena . to consider \\n this problem is expected to contribute to a deep understanding of fluctuations and structure in the market . \\n mantegna r.n . and stanley h.e . \\n ( 2000 ) introduction to econophysics , cambridge university press . \\n dacorogna m.m . , \\n genay r , mller u. , olsen r.b . and pictet o.v . \\n ( 2000 ) an introduction to high - frequency finance , academic press ( san diego ) . \\n mizuno t. , kurihara s. , takayasu m. and takayasu h. ( 2003 ) analysis of high - resolution foreign exchange data of usd - jpy for 13 years . \\n physica a * 324*:296302 . \\n takayasu m. ( 2003 ) in ; the application of econophyisc  proceedings of the second nikkei econophysics symposium , h. takayasu ( ed . ) , springer(tokyo ) : 155 - 160 ; takayaus m. and takayasu h. ( 2003 ) self - modulation processes and resulting generic 1/f fluctuations . physica a * 324 * : 101107 . \\n ohnishi t. , mizuno t. , aihara k. , takayasu m. and takayasu h. ( 2004 ) statistical properties of the moving average price in dollar - yen exchange rates , physica a * 344*:207210 . \\n mizuno t. , nakano t. , takayasu m. and takayasu h. ( 2004 ) traders strategy with price feedbacks in financial market . \\n physica a * 344*:330334 . \\n babinec , p ( 2002 ) stochastic resonance in an interacting - agent model of stock market . \\n chaos , solutions and fractals * 13 * : 17671770 . \\n krawiecki a. and hoyst j.a . \\n ( 2003 ) stochastic resonance as a model for financial market crashes and bubbles . \\n physica a * 317 * : 597608 . \\n sato a .- h . \\n , ueda m. and munakata t. , signal estimation and threshold optimization using an array of bithreshold elements . \\n ( 2004 ) physical review e , * 70*:021106 . \\n gammaitoni l. , hnggi p. , jung p. , and marchesoni f. ( 1998 ) stochastic resonance . \\n phys . * 70*:223287 .',\n",
       "  'abstract': 'this study investigates that a characteristic time scale on an exchange rate market ( usd / jpy ) is examined for the period of 1998 to 2000 . calculating power spectrum densities for the number of tick quotes per minute and averaging them over the year yield that the mean power spectrum density has a peak at high frequencies . \\n consequently it means that there exist the characteristic scales which dealers act in the market . \\n a simple agent model to explain this phenomenon is proposed . \\n this phenomena may be a result of stochastic resonance with exogenous periodic information and physiological fluctuations of the agents . \\n this may be attributed to the traders behavior on the market . \\n the potential application is both quantitative characterization and classification of foreign currency markets . +   + * key words . \\n power spectrum density , agent - based model , stochastic resonance *'},\n",
       " {'article': \"discretizations are very commonly used as a tool to treat field theories . \\n classically , when one wishes to solve the equations of a theory on a computer , one replaces the continuum equations by discrete approximations to be solved numerically . at the level of quantization \\n , lattices have been used to regularize the infinities that plague field theories . \\n this has been a very successful approach for treating yang \\n mills theories . \\n the current approaches to non - perturbatively construct in detail a mathematically well defined theory of quantum gravity both at the canonical level @xcite and at the path integral level @xcite resort to discretizations to regularize the theory . \\n discretizing general relativity is more subtle than what one initially thinks . \\n consider a @xmath0 decomposition of the einstein equations . \\n one has twelve variables to solve for ( the six components of the spatial metric and the six components of the extrinsic curvature ) . yet \\n , there are _ sixteen _ equations to be solved , six evolution equations for the metric , six for the extrinsic curvature and four constraints . in the continuum , we know that these sixteen equations are _ compatible _ , i.e. one can find twelve functions that satisfy them . \\n however , when one discretizes the equations , the resulting system of algebraic equations is in general incompatible . \\n this is well known , for instance , in numerical relativity @xcite . \\n the usual attitude there is to ignore the constraints and solve the twelve evolution equations ( this scheme is called `` free evolution '' ) . \\n the expectation is that in the limit in which the lattice is infinitely refined , the constraints will also be satisfied if one satisfied them initially . \\n the situation is more involved if one is interested in discretizing the theory in order to quantize it . \\n there , one needs to take into account all equations . \\n in particular , in the continuum the constraints form an algebra . \\n if one discretizes the theory the discrete version of the constraints will in many instances fail to close an algebra . \\n theories with constraints that do not form algebras imply the existence of more constraints which usually makes them inconsistent . \\n for instance , it might be the case that there are no wavefunctions that can be annihilated simultaneously by all constraints . \\n one can ask the question if this is not happening in the construction that thiemann works out . to our knowledge , this issue has not been probed . \\n what is clear , is that discretizing relativity in order to quantize it will require some further thinking . \\n the new proposal we have put forward @xcite , called _ consistent discretization _ is that , in order to make the discrete equations consistent , the lapse and the shift need to be considered as some of the variables to be solved for . \\n then one has 16 equations and 16 unknowns . \\n this might appear surprising since our intuition from the continuum is that the lapse and the shift are freely specifiable . \\n but we need to acknowledge that the discrete theory _ is a different theory _ , which may approximate the continuum theory in some circumstances , but nevertheless is different and may have important differences even at the conceptual level . \\n this is true of any discretization proposal , not only ours . \\n we have constructed a canonical approach for theories discretized in the consistent scheme @xcite . \\n the basic idea is that one does not construct a legendre transform and a hamiltonian starting from the discretized lagrangian picture . \\n the reason for this is that the hamiltonian is a generator of infinitesimal time evolutions , and in a discrete theory , there is no concept of infinitesimal . \\n what plays the role of a hamiltonian is a canonical transformation that implements the finite time evolution from discrete instant @xmath1 to @xmath2 . \\n the canonical transformation is generated by the lagrangian viewed as a type i canonical transformation generating functional . \\n the theory is then quantized by implementing the canonical transformation as a unitary evolution operator . a discussion of an extension of the dirac procedure to these kinds of systems can be seen in @xcite . \\n we have applied this discretization scheme to perform a discretization ( at a classical level ) of bf theory and yang \\n mills theories @xcite . in the case of bf theories \\n this provides the first direct discretization scheme on a lattice that is known for such theories . in the case of yang \\n mills theories it reproduces known results . \\n we have also studied the application of the discretization scheme in simple cosmological models . \\n we find that the discretized models approximate general relativity well and avoid the singularity @xcite . \\n more interestingly , they may provide a mechanism for explaining the value of fundamental constants @xcite . \\n when the discrete models tunnel through the singularity , the value of the lapse gets modified and therefore the `` lattice spacing '' before and after is different . since in lattice gauge theories the spacing is related to the `` dressed '' values of the fundamental constants , this provides a mechanism for fundamental constants to change when tunneling through a singularity , as required in smolin s @xcite `` life of the cosmos '' scenario . \\n it is quite remarkable that the discrete models work at all . \\n when one solves for the lapse and the shift one is solving non - linear coupled algebraic equations . \\n it could have happened that the solutions were complex . \\n it could have happened that there were many possible `` branches '' of solutions . \\n it could have happened that the lapse turned negative . \\n although all these situations are possible given certain choices of initial data , it is remarkable that it appears that one can choose initial data and a convenient `` branch '' of solutions for which pathologies are avoided and the discrete theory approximates the continuum theory in a controlled fashion . for simple cosmological examples , the quantization implementing the evolution as a unitary operation has been worked out in detail @xcite . \\n we are currently exploring the gowdy models with this approach , initially at a classical level only . here \\n the problem is considerably more complex than in cosmological models . \\n the equations to be solved for the lapse and the shift become a coupled system that couples all points in the spatial discretization of the lattice . the problem can only be treated numerically . \\n moreover , gowdy models have a global constraint due to the topology that needs special treatment . \\n we have written a fortran code to solve the system using iterative techniques ( considerable care needs to be exercised since the system becomes almost singular at certain points in phase space ) and results are encouraging . in the end \\n the credibility of the whole approach will hinge upon us producing several examples of situations of interest where the discrete theories approximate continuum gr well . \\n the fact that in the consistent discrete theories one solves the constraints to determine the value of the lagrange multipliers has rather remarkable implications . \\n the presence of the constraints is one of the most significant sources of conceptual problems in canonical quantum gravity . \\n the fact that we approximate the continuum theory ( which has constraints ) with a discrete theory that is constraint free allows us to bypass in the discrete theory many of the conceptual problems of canonical quantum gravity . \\n the reader may ask how is such an approximation possible . after all , \\n if the continuum theory has constraints and the discrete version does not , the two theories do not even have the same number of degrees of freedom . \\n this is true . \\n what is happening is that in the discrete theory there will generically be several solutions that approximate a given solution of the continuum theory . \\n as solutions of the discrete theory they are all different yet they represent the same solution in the continuum . \\n therefore it is not surprising that the discrete theory has more degrees of freedom . \\n one of the main problems we can deal with due to the lack of constraints is the `` problem of time '' . \\n this problem has generated a large amount of controversy and has several aspects to it . \\n we can not cover everything here , the definitive treatise on the subject is the paper by kucha @xcite .    to simplify the discussion of the problem of time , let us consider an aspect of quantum mechanics that most people find unsatisfactory perhaps from the first time they encounter the theory as undergraduates . \\n it is the fact that in the schrdinger equation , the variables `` @xmath3 '' and `` @xmath4 '' play very different roles . \\n the variable @xmath3 is a quantum operator of which we can , for instance , compute its expectation value , or its uncertainty . \\n in contrast @xmath4 is assumed to be a continuous external parameter . \\n one is expected to have a clock that behaves perfectly classically and is completely external to the system under study . \\n of course , such a construction can only be an approximation . \\n there is no such thing as a perfect classical clock and in many circumstances ( for instance quantum cosmology ) there is no `` external clock '' to the system of interest . \\n how is one to do quantum mechanics in such circumstances ? \\n the answer is : `` relationally '' . \\n one could envision promoting _ all _ variables of a system to quantum operators , and choosing one of them to play the role of a `` clock '' . \\n say we call such variable @xmath4 ( it could be , for instance the angular position of the hands of a real clock , or it could be something else ) . \\n one could then compute conditional probabilities for other variables to take certain values @xmath5 when the `` clock '' variable takes the value @xmath6 . \\n if the variable we chose as our `` clock '' does correspond to a variable that is behaving classically as a clock , then the conditional probabilities will approximate well the probabilities computed in the ordinary schrdinger theory . if one picked a `` crazy time '' then the conditional probabilities are still well defined , but they do nt approximate any schrdinger theory well . if there is no variable that can be considered a good classical clock , schrdinger s quantum mechanics does not make sense and the relational quantum mechanics is therefore a generalization of schrdinger s quantum mechanics . \\n the introduction of a relational time in quantum mechanics therefore appears well suited as a technique to use in quantizing general relativity , particularly in cosmological situations where there is no externally defined `` classical time '' . \\n page and wootters advocated this in the 1980 s @xcite . unfortunately , there are technical problems when one attempts the construction in detail for general relativity . \\n the problem arises when one wishes to promote the variables to quantum operators . which variables to choose ? in principle , the only variables that make sense physically are those that have vanishing poisson brackets ( or quantum mechanically vanishing commutators ) with the constraints . \\n but since the hamiltonian is one of the constraints , then such variables are `` perennials '' i.e. constants of motion , and one can not reasonably expect any of them to play the role of a `` clock '' . \\n one could avoid this problem by considering variables that do not have vanishing poisson brackets with the constraints . \\n but this causes problems . \\n quantum mechanically one wishes to consider quantum states that are annihilated by the constraints . \\n variables that do not commute with the constraints as quantum operators map out of the space of states that solve the constraints . \\n the end result of this , as discussed in detail by kucha @xcite is that the propagators constructed with the relational approach do not propagate . \\n notice that all the problems are due to the presence of the constraints . in our discrete theory , \\n since there are no constraints , there is no obstruction to constructing the relational picture . \\n we have discussed this in detail in @xcite .    of great interest \\n is the fact that the resulting relational theory will never entirely coincide with a schrdinger picture . \\n in particular , since no clock is perfectly classical , pure states do not remain pure forever in this quantization , but slowly decohere into mixed states . \\n we have estimated the magnitude of this effect . in order to do this , we chose the `` best possible classical clock '' as constructed by ng and van damme and amelino - camelia @xcite elaborating on the pioneering work of salecker and wigner @xcite . \\n the result is that the rate of decoherence is proportional to @xmath7 where @xmath8 is the frequency associated with the spread in energy levels of the system under study , @xmath9 is planck s time and @xmath10 is the time that the system lives . \\n the effect is very small . only for systems that have \\n rather large energy spreads ( bose  einstein condensates are a possible example ) the effect may be close to observability . \\n with current technologies , the condensates do not have enough atoms to achieve the energy spreads of interest , but it might not be unfeasible as technology improves to observe the effect @xcite . \\n the fact that a pure state evolves into a mixed state opens other interesting possibilities , connected with the black hole information puzzle . \\n this puzzle is related to the fact that one could consider a pure quantum state that collapses into a black hole . \\n the latter will start evaporating due to hawking radiation until eventually it disappears . \\n what one is left with at the end of the day appears to be the outgoing radiation , which is in a mixed state . \\n therefore a pure state appears to have evolved into a mixed state . \\n there is a vast literature discussing this issue ( see for instance @xcite for a short review ) . \\n possible solutions proposed include that the black hole may not disappear entirely or that some mechanism may allow pure states to evolve into a mixed state . \\n but we have just discussed that the relational discrete quantum gravity predicts such decoherence ! \\n we have estimated that the decoherence is fast enough to turn the pure state into a mixed one before the black hole can evaporate completely , @xcite ( an earlier manuscript we wrote did not use the optimal clocks and the rate of decoherence it predicted was not as decisive @xcite ) . \\n the result is quite remarkable , since the decoherence effect , as we pointed before , is quite small . \\n it is large enough to avoid the information puzzle in black holes , even if one considers smaller and smaller black holes which evaporate faster since they also have larger energy spreads and therefore the decoherence effect operates faster . \\n analyzing in detail how to discretize general relativity led us to develop a way to consistently discretize the theory , in the sense that all the resulting discrete equations can be solved simultaneously . \\n surprisingly , the consistent discretizations not only approximate general relativity well in several situations , but as theories are conceptually much simpler to analyze than the continuum theory , since they do not have constraints . \\n this allows us to handle several of the hard conceptual problems of canonical quantum gravity . \\n what is now needed is to demonstrate that the range of situations in which the discrete theory approximates general relativity well is convincingly large enough to consider its quantization as a route for the quantization of general relativity . \\n this work was supported by grant nsf - phy0244335 and funds from the horace hearne jr . \\n institute for theoretical physics . \\n 99 see t.  thiemann , lect . \\n notes phys . \\n * 631 * , 41 ( 2003 ) [ arxiv : gr - qc/0210094 ] and references therein . \\n see a.  perez , class . \\n grav .   * 20 * , r43 ( 2003 ) [ arxiv : gr - qc/0301113 ] and references therein . \\n m. choptuik , phys . rev . \\n * d44 * 3124 ( 1991 ) . \\n r.  gambini and j.  pullin , phys . \\n * 90 * , 021301 ( 2003 ) [ arxiv : gr - qc/0206055 ] . c.  di bartolo , r.  gambini and j.  pullin , class . \\n * 19 * , 5275 ( 2002 ) [ arxiv : gr - qc/0205123 ] . c.  di bartolo , r.  gambini , r.  porto and j.  pullin , `` dirac - like approach for consistent discretizations of classical constrained theories , '' [ arxiv : gr - qc/0405131 ] . \\n r.  gambini and j.  pullin , class . \\n grav .   * 20 * , 3341 ( 2003 ) [ arxiv : gr - qc/0212033 ] . \\n r.  gambini and j.  pullin , int . \\n j.  mod . \\n d * 12 * , 1775 ( 2003 ) [ arxiv : gr - qc/0306095 ] . \\n l.  smolin , class .  quant \\n .  grav .   * 9 * , 173 ( 1992 ) . \\n k. kucha `` time and interpretations of quantum gravity '' in `` proceedings of the 4th canadian conference on general relativity and relativistic astrophysics '' , g. kunstatter , d. vincent , j. williams ( editors ) , world scientific , singapore ( 1992 ) , online at http://www.phys.lsu.edu/faculty/pullin/kvk.pdf d.  n.  page and w.  k.  wootters , phys . \\n d * 27 * , 2885 ( 1983 ) . \\n r.  gambini , r.  a.  porto and j.  pullin , `` discrete quantum gravity solution to the problem of time : a model '' in `` recent developments in gravity : proceedings of the 10th hellenic relativity conference '' , world scientific , singapore ( 2003 ) [ arxiv : gr - qc/0302064 ] . \\n g.  amelino - camelia , mod . \\n lett .  a * 9 * , 3415 ( 1994 ) [ arxiv : gr - qc/9603014 ] ; y.  j.  ng and h.  van dam , annals n.  y.  acad . \\n sci .   * 755 * , 579 ( 1995 ) [ arxiv : hep - th/9406110 ] ; mod . \\n lett .  a * 9 * , 335 ( 1994 ) . \\n e. wigner , rev . \\n mod . phys . * 29 * , 255 ( 1957 ) ; h. salecker , e. wigner , phys . rev . * 109 * , 571 ( 1958 ) . \\n r.  gambini , r.  a.  porto and j.  pullin , class . \\n * 21 * , l51 ( 2004 ) [ arxiv : gr - qc/0305098 ] . \\n s.  b.  giddings and l.  thorlacius , `` introduction to the information problem , '' arxiv : astro - ph/9412046 . \\n r.  gambini , r.  a.  porto and j.  pullin , `` realistic clocks , universal decoherence and the black hole information paradox , '' [ arxiv : hep - th/0406260 ] . \\n r.  gambini , r.  a.  porto and j.  pullin , `` no black hole information puzzle in a relational universe , '' [ arxiv : hep - th/0405183 ] .\",\n",
       "  'abstract': 'we review a recent proposal for the construction of a quantum theory of the gravitational field . the proposal is based on approximating the continuum theory by a discrete theory that has several attractive properties , among them , the fact that in its canonical formulation it is free of constraints . \\n this allows to bypass many of the hard conceptual problems of traditional canonical quantum gravity . in particular \\n the resulting theory implies a fundamental mechanism for decoherence and bypasses the black hole information paradox .'},\n",
       " {'article': 'speckle is the random granular pattern produced when a coherent light is scattered off a rough surface . \\n it carries information of the specimen surface , for the intensity and contrast of the speckle image vary with the roughness of surface being illuminated.@xcite numerous approaches have been devised to identify surface profiles by either the speckle contrast or the speckle correlation method.@xcite recent application of pulsed soft x - ray laser has improved the temporal and spatial resolution to a scale of picosecond and nanometer . by this means , dynamics of surface polarization clusters of barium titanate ( batio@xmath0 ) across the curie temperature ( @xmath1 ) has been observed,@xcite which paves a new way to study the paraelectric - ferroelectric phase transition .    as a prototype of the ferroelectric perovskite compounds , \\n batio@xmath0 undergoes a transition from paraelectric cubic to ferroelectric tetragonal phase at @xmath1=395 k. below @xmath1 , two kinds of ferroelectric domain are developed with mutually perpendicular polarization . \\n structural phase transition and domain induced surface corrugation have been observed via atomic force microscopy,@xcite scanning probe microscopy,@xcite neutron scattering,@xcite and polarizing optical microscopy.@xcite in addition to the extensive application of batio@xmath0 in technology due to its high dielectric constant and switchable spontaneous polarization,@xcite there is also an enduring interest in understanding the mechanism of paraelectric - ferroelectric phase transition . \\n it is generally considered that the transition is a classic displacive soft - mode type driven by the anharmonic lattice dynamics.@xcite however , recent studies have also suggested an order - disorder instability which coexists with the displacive transition.@xcite therefore , direct observation on creation and evolution of ferroelectric cluster around @xmath1 is of crucial importance for clarifying the nature of phase transition . \\n since the above - mentioned conventional time - average - based measurements can not be adapted to the detection on ultrafast transient status of dipole clusters , diffraction speckle pattern of batio@xmath0 crystal measured by the picosecond soft x - ray laser has turned out to be an efficient way for this purpose . \\n very recently , namikawa _ \\n et al._@xcite study the polarization clusters in batio@xmath0 at above @xmath1 by the plasma - based x - ray laser speckle measurement in combination with the technique of pump probe spectroscopy . in this experiment , two consecutive soft x - ray laser pulses with wavelength of 160  and an adjustable time difference \\n are generated coherently by the michelson type beam splitter . \\n after the photo excitation by the pump pulse , ferroelectric clusters of nano scale are created in the paraelectric batio@xmath0 and tends to be smeared out gradually on the way back to the equilibrium paraelectric state . \\n this relaxation of cluster thus can be reflected in the variation of speckle intensity of the probe pulse as a function of its delay time from the first pulse . \\n it has been found that the intensity of speckle pattern decays as the delay time increases . \\n moreover , the decay rate also decreases upon approaching @xmath1 , indicating a critical slowing down of the cluster relaxation time . \\n hence , by measuring the correlation between two soft x - ray laser pulses , the real time relaxation dynamics of polarization clusters in batio@xmath0 is clearly represented . in comparison with other time - resolved spectroscopic study on batio@xmath0 , for example the photon correlation spectroscopy with visible laser beam,@xcite namikawa s experiment employs pulsed soft x - ray laser as the light source . for this sake , the size of photo - created ferroelectric cluster is reduced down to a few nanometers , and the cluster relaxation time is at a scale of picosecond . \\n this measurement , thus , offers a new insight into the ultrafast quantum dynamics of domain structure .    in this work \\n , we examine the above - mentioned novel behaviors of ferroelectric cluster observed by namikawa from a theoretical point of view , aiming to provide a basis for understanding the critical nature of batio@xmath0 . \\n theoretically , the dynamics of a system can be adequately described by the linear response theory , _ \\n i.e. _ , to express the dynamic quantities in terms of time correlation functions of the corresponding dynamic operators . in general , \\n the path integral quantum monte carlo method is computationally feasible to handle the quantum many body problems , for it allows the system to be treated without making any approximation . \\n however , simulation on real time dynamics with monte carlo method is still an open problem in computational physics because of the formidable numerical cost of path summation which grows exponentially with the propagation time . the common approach to circumvent \\n this problem is to perform imaginary time path integration followed by analytic continuation , and to compute the real time dynamic quantities using fourier transformation . in the present study , \\n the real time correlation functions and real time dependence of speckle pattern are investigated by this scheme . \\n our quantum monte carlo simulation demonstrates that the relaxation dynamics of photo - created nano clusters plays an essential role in determining the delay time dependence of speckle variation . \\n furthermore , it is found that the critical slowing down of photorelaxation is related to the local dipole fluctuation , which arises near @xmath1 and stablizes the photo - created ferroelectric cluster .    the remaining of the present paper is organized as follows . in sec . \\n ii , the model hamiltonian and theoretical treatment are elaborated . in sec . \\n iii , our numerical results on speckle correlation and critical slowing down are discussed in details . in sec . \\n iv , a summary with conclusion is presented finally . \\n the theoretical interpretations for structural phase transition and domain wall dynamics have be well established in the framework of krumhansl - schrieffer model ( also known as @xmath2 model).@xcite in this model , the particles are subject to anharmonic on - site potentials and harmonic inter - site couplings . \\n the on - site potential is represented as a polynomial form of the order parameter such as polarization , displacement , or elasticity , which displays a substantial change around @xmath1 . \\n since the @xmath2 model is only limited to second - order transitions , in the present work we invoke a modified krumhansl - schrieffer model ( also called @xmath3 model)@xcite to study the first - order ferroelectric phase transition of batio@xmath0 . in this scenario , \\n the hamiltonian of batio@xmath0 crystal ( @xmath4 ) is written as ( here we let @xmath5 ) , @xmath6 where , @xmath7 and @xmath8 are the on - site potential and inter - site correlation , respectively . \\n @xmath9 is the coordinate operator for the electric dipole moment due to a shift of titanium ions against oxygen ions , _ \\n i.e. _ , the @xmath10 transverse optical phonon mode . \\n @xmath11 is the dipole oscillatory frequency , @xmath12 labels the site , and @xmath13 in eq . \\n ( 3 ) enumerates the nearest neighboring pairs .    in order to describe the optical response of batio@xmath0 due to x - ray scattering , \\n we design a theoretical model to incorporate the radiation field and a weak interplay between radiation and crystal . \\n the total hamiltonian reads , @xmath14 where @xmath15 is the hamiltonian of polarized light field . \\n @xmath16 ( @xmath17 ) is the creation ( annihilation ) operator of a photon with a wave number @xmath18 and an energy @xmath19 . \\n @xmath20 is the light velocity in vacuum . in namikawa s experiment , \\n the wave length of x - ray is 160 a , thus the photon energy is about 80 ev . denoting the odd parity of @xmath10 mode , the photon - phonon scattering is of a bi - linear raman type , @xmath21 where @xmath22 is the photon - phonon coupling strength , @xmath23 ( @xmath24 ) the fourier component of @xmath9 with a wave number @xmath25 . without losing generalitivity , here \\n we use a simple cubic lattice , and the total number of lattice site is @xmath26 .       creates and detects ferroelectric clusters in the sample of paraelectric batio@xmath0 , respectively , and generate new x - ray fields in the direction @xmath27 and @xmath28 after a short time interval @xmath29 . ] \\n since there are two photons involved in the scattering , the photon - phonon scattering probability can be written as , @xmath30 where @xmath31 means the expectation , @xmath32 ( @xmath33 ) is the inverse temperature , and the time dependent operators are defined in the heisenberg representation , @xmath34 here , @xmath35 denotes the time difference between two incident laser pulses as manifested in fig . 1 \\n , and @xmath36 the wave number of incoming photon . after a small time interval @xmath29 \\n , the photon is scattered out of the crystal . @xmath27 and @xmath28 are the wave numbers of the first and second outgoing photons , respectively .    treating @xmath37 as a perturbation , we separate hamiltonian of eq . \\n ( 4 ) as , @xmath38 where @xmath39 is treated as the unperturbed hamiltonian . by expanding the time evolution operator in eq . ( 9 ) with respect to @xmath37 , @xmath40 , \\\\end{aligned}\\\\ ] ] we find that the lowest order terms which directly depend on @xmath35 are of fourth order , @xmath41 where the operators with carets are defined in the interaction representation , @xmath42    fig . \\n 2 represents a diagram analysis for this phonon - coupled scattering process , where photons ( phonons ) are depicted by the wavy ( dashed ) lines , and the upper ( lower ) horizontal time lines are corresponding to the bra ( ket ) vectors.@xcite diagram ( a ) illustrates the changes of wave number and energy of photons due to the emitted or absorbed phonons . \\n this is noting but the stokes and anti - stokes raman scattering . \\n whereas , diagrams ( b)-(e ) are corresponding to the exchange , side band , rapid damping and rapid exchange effects , respectively .    obviously , diagram ( c ) brings no time dependence , while diagrams ( d ) and ( e ) only contributes a rapid reduction to the time correlation of two laser pulses because of the duality in phonon interchange . \\n in this sense , the time dependence is primarily determined by the diagrams ( a ) and ( b ) . \\n thus , the scattering probability turns out to be , @xmath43 where the photons and phonons are decoupled , and it becomes evident that the origin of the @xmath35-dependence is nothing but the phonon ( dipole ) correlation .    since the photonic part in eq.(15 ) \\n is actually time - independent , and in the case of forward x - ray scattering we have @xmath44@xmath45@xmath46@xmath45@xmath47 , the normalized probability can be simplified as , @xmath48 where @xmath49 is the real time green s function of phonon , and @xmath50 the time ordering operator . in deriving eq . \\n ( 16 ) , we have also made use of the fact that the light propagation time in the crystal is rather short . \\n the fourier component of green s function , @xmath51 is related to the phonon spectral function [ @xmath52 through,@xcite @xmath53 the phonon spectral function describes the response of lattice to the external perturbation , yielding profound information about dynamic properties of the crystal under investigation . once we get the spectral function , the scattering probability and correlation function can be readily derived . \\n a mathematically tractable approach to spectral function @xmath54 is to introduce an imaginary time phonon green s function , for it can be evaluated more easily than its real time counterpart . in the real space , the imaginary time green s function \\n is defined as , @xmath55 where @xmath56 ( @xmath57 ) is the argument for imaginary time ( in this paper , we follow a convention of using roman @xmath35 for real time and greek @xmath56 for imaginary time ) . \\n the imaginary time dependence of an operator in the interaction representation is given by @xmath58 under the weak coupling approximation , and by using the suzuki - trotter identity , the green s function can be rewritten into a path integral form ( here we assume @xmath56@xmath590),@xcite @xmath60 }      [ -2 x_l ( \\\\tau ) x_{l \\'\\' } ( 0 ) ] , \\\\end{aligned}\\\\ ] ] where @xmath61 is the eigenvalue of @xmath9 , @xmath62 @xmath63 is the path - dependent phonon free energy @xmath64 } , \\\\end{aligned}\\\\ ] ] with @xmath65      -{1 \\\\over 2 } \\\\omega_0 d_2 \\\\sum_{\\\\langle l , l \\' \\\\rangle } x_l x_{l \\' } , \\\\end{aligned}\\\\ ] ] and @xmath66 is the total phonon free energy , @xmath67 in the path integral notation , the internal energy of crystal @xmath68 ( @xmath69 ) is represented as @xmath70 }      \\\\left [ \\\\omega_0 \\\\sum_l \\\\left(x_l^2      - { 3 \\\\over 2 } c_4 x_l^4 \\\\right . \\n \\\\right . \\n \\\\nonumber \\\\\\\\ & & \\\\left . \\n + { 2 \\\\over 3 } c_6 x_l^6 \\\\right )      - \\\\omega_0 d_2 \\\\sum_{\\\\langle l , l \\' \\\\rangle } x_l x_{l \\' } \\\\right ] , \\\\end{aligned}\\\\ ] ] from which the heat capacity can be derived as @xmath71    the green s function of momentum space is given by , @xmath72 which is connected with the phonon spectral function @xmath54 through@xcite @xmath73 }      { \\\\sinh \\\\left ( { 1 \\\\over 2 } \\\\beta \\\\omega \\\\right ) }      a_q ( \\\\omega ) .\\\\end{aligned}\\\\ ] ] solving this integral equation is a notoriously ill - posed numerical problem because of the highly singular nature of the kernel . in order to analytically continue the imaginary time data into real frequency information , \\n specialized methods are developed , such as maximum entropy method@xcite and least squares fitting method.@xcite in present work , we adopt the iterative fitting approach,@xcite for it can give a rapid and stable convergence of the spectrum without using any prior knowledge or artificial parameter . \\n since the phonon spectral function does not yield a specific sum rule like the case of electron , here we introduce an auxiliary spectral function @xmath74 which is defined by @xmath75 substituting @xmath74 into eq . \\n ( 30 ) , we get @xmath76 }      { \\\\cosh \\\\left ( { 1 \\\\over 2 } \\\\beta \\\\omega \\\\right ) } g_q ( \\\\beta )      \\\\tilde{a}_q ( \\\\omega ) .\\\\end{aligned}\\\\ ] ] it can be easily shown that this auxiliary spectral function satisfies a sum rule , @xmath77 which allow us to solve the integral equation of eq . ( 32 ) by the iterative fitting approach . \\n once @xmath78 is reproduced , the phonon spectral function @xmath54 can be obtained from eq . \\n based on the path integral formalisms , the imaginary time green s function can be readily calculated via a standard quantum monte carlo simulation.@xcite our numerical calculation is performed on a 10@xmath7910@xmath7910 cubic lattice with a periodic boundary condition . \\n the imaginary time is discretized into 10 - 20 infinitesimal slices . \\n as already noticed for the analytic continuation,@xcite if the imaginary time green s function is noisy , the uncertainty involved in the inverse transform might be very large , and the spectral function can not be determined uniquely . in order to obtain accurate data from quantum monte carlo simulation , \\n a hybrid algorithm@xcite has been implemented in our calculation . \\n besides , we pick out each monte carlo sample after 100 - 200 steps to reduce the correlation between adjacent configurations . \\n the monte carlo data are divided into 5 - 10 sets , from which the 95% confidence interval is estimated through 10,000 resampled set averages by the percentile bootstrap method . \\n we found that about 1,000,000 monte carlo configurations are sufficient to get well converged spectral functions and real time dynamic quantities . \\n for the modified krumhansl - schrieffer model in the unit of @xmath11 . \\n the coordinates of potential extrema are denoted by @xmath80 , @xmath81 , and @xmath82 . \\n @xmath83 and @xmath84 are two parameters adopted to characterize this potential . ]    in the numerical calculation , the phonon frequency @xmath11 is assumed to be 20 mev,@xcite the inter - site coupling constant @xmath85 is fixed at a value of 0.032 , whereas @xmath86 and @xmath87 are selected to make the on - site @xmath7 a symmetric triple - well potential . as shown in fig . \\n 3 , this triple - well structure is featured by five potential extrema located at @xmath80 , @xmath88 and @xmath89 , where @xmath90    xmr of brillouin zone in the paraelectric phase at various temperatures : ( a ) 1.001@xmath1 , ( b ) 1.012@xmath1 , ( c ) 1.059@xmath1 , and ( d ) 1.176@xmath1 , where @xmath1=386 k. the inset of panel ( a ) shows the brillouin zone with high symmetry lines . \\n the inset of panel ( b ) represents the spectrum at @xmath91 point when @xmath50=1.012@xmath1 . \\n error bars mark the 95% confidence interval . ]    in figs . 4 and 5 , we show the optical responses of crystal , where @xmath86=2.0132@xmath7910@xmath92 and @xmath87=3.2595@xmath7910@xmath93 are used . \\n 4 presents the phonon spectral functions in the paraelectric phase at different temperatures : ( a ) @xmath50=1.001@xmath1 , ( b ) @xmath50=1.012@xmath1 , ( c ) @xmath50=1.059@xmath1 and ( d ) @xmath50=1.176@xmath1 , where @xmath1=386 k. in each panel , the spectra are arranged with wave vectors along the @xmath91xmr direction of brillouin zone [ see in the inset of panel ( a ) ] , and @xmath94 refers to energy . in the inset of panel ( b ) , \\n the spectrum at @xmath91 point for @xmath50=1.012@xmath1 is plotted with 95% confidence interval illustrated by the error bars . \\n since the spectra are symmetric with respect to the origin @xmath94=0 , here we only show the positive part of them . in fig . \\n 4 , when the temperature decreases towards @xmath1 , as already well - known for the displacive type phase transition , the energy of phonon peak is gradually softened . \\n in addition , a so - called central peak , corresponding to the low energy excitation of ferroelectric cluster , appears at the @xmath91 point . \\n the collective excitation represented by this sharp resonant peak is nothing but the photo - created ferroelectric cluster . \\n on decreasing temperature , spontaneous polarization is developed locally as a dipole fluctuation in the paraelectric phase . \\n this fluctuation can stabilize the photo - created ferroelectric cluster , leading to a dramatically enhanced peak intensity near @xmath1 . \\n the appearance of sharp peak at @xmath91 point nearby @xmath1 signifies a long life - time of the photo - created ferroelectric clusters after irradiation . \\n thus , near @xmath1 , they are more likely to be probed by subsequent laser pulse , resulting in a high intensity of speckle pattern . keeping this in mind \\n , we move on to the results of scattering probability . in fig . 5 \\n , we show the variation of normalized probability @xmath95 as a function of @xmath35 ( time interval between the pump and probe photons ) . \\n temperatures for these curves correspond to those in the panels ( a)-(d ) of fig . \\n 4 , respectively . in this figure , \\n @xmath95 declines exponentially , showing that the speckle correlation decreases with @xmath35 increases as a result of the photorelaxation of ferroelectric cluster . \\n when @xmath35 is long enough , the crystal returns to the equilibrium paraelectric state . \\n in addition , as shown in the figure , the relaxation rate bears a temperature dependence . on approaching @xmath1 , \\n the duration for return is prolonged , indicative of a critical slowing down of the relaxation . \\n this is because with the decrease of temperature , the fluctuation of local polarization is enhanced , and a long range correlation between dipole moments is to be established as well , making the relaxation of photo - created clusters slower and slower .    , at various temperatures . \\n horizontal dashed line denotes @xmath96 . ]      in order to quantitatively depict the critical slowing down , we introduce a relaxation time @xmath97 to estimate the time scale of relaxation , which is the time for @xmath98 to be reduced by a factor of @xmath99 from @xmath100 . in fig . \\n 5 , @xmath98=@xmath101 is plotted by a horizontal dashed line . \\n correspondingly , @xmath97 is the abscissa of the intersection point of relaxation curve and this dashed line . in fig . \\n 6 , the relaxation time for various local potential @xmath7 is presented at @xmath102 . here \\n we adopt two legible parameters , @xmath83 and @xmath84 , to describe the potential wells and barriers for @xmath7 ( see fig . \\n 3 ) , which are defined by @xmath103 / \\\\omega_0 , \\\\\\\\ \\n \\\\xi & \\\\equiv & u_0 ( x_c ) / \\\\omega_0 .\\\\end{aligned}\\\\ ] ] provided @xmath83 and @xmath84 , @xmath86 and @xmath87 can be derived in terms of eqs . \\n ( 35)-(38 ) . \\n the values of @xmath86 and @xmath87 for the calculation of fig . \\n 6 are listed in table i , where we set @xmath84=3.061 and change @xmath83 from 4.239 to 4.639 . \\n the leftmost point on each curve denotes the @xmath97 at just above @xmath1 , which is a temperature determined from the singular point of @xmath104 according to eq . \\n ( 28 ) .     for various @xmath83 \\n when @xmath102 , where @xmath84 is fixed at 4.439 . \\n error bars show the 95% confidence interval . ]    as revealed by the nmr experiment,@xcite the paraelectric - ferroelectric phase transition of batio@xmath0 has both displacive and order - disorder components in its mechanism . \\n short range dipole fluctuation arises in the paraelectric phase near @xmath1 as a precursor of the order - disorder transition , and condenses into long range ferroelectric ordering below @xmath1 . \\n thus , in the present study , the relaxation of photo - created cluster is also subject to the dynamics of this dipole fluctuation and yields a temperature dependence . as illustrated by the three curves in fig . \\n 6 , if a ferroelectric cluster is created at a temperature close to @xmath1 , relaxation of this cluster is slow because of a rather strong dipole fluctuation , which holds the cluster in the metastable ferroelectric state from going back to the paraelectric one . away from @xmath1 , @xmath97 decreases considerably for the dipole fluctuation is highly suppressed . \\n this behavior is nothing but the critical slowing down of photorelaxation . \\n .parameters adopted for calculation of fig . 6 . [ cols=\"^,^,^,^,^\",options=\"header \" , ]     in namikawa s experiment , the wavelength of soft x - ray laser is 160  , hence the photo - created cluster is of nano scale . \\n however , it should be noted that relaxation of nano - sized cluster is beyond our present quantum monte carlo simulation because of the size limitation of our model . \\n this is the primary reason why the experimentally measured relaxation time can reach about 30 picoseconds , being several times longer than our calculated results . in spite of the difference \\n , our calculation has well clarified the critical dynamics of batio@xmath0 and the origin of speckle variation . \\n we carry out a theoretical investigation to clarify the dynamic property of photo - created ferroelectric cluster observed in the paraelectric batio@xmath0 as a real time correlation of speckle pattern between two soft x - ray laser pulses . \\n the density matrix is calculated by a perturbative expansion up to the fourth order terms , so as to characterize the time dependence of scattering probability . \\n the cluster - associated phonon softening as well as central peak effects are well reproduced in the phonon spectral function via a quantum monte carlo simulation . \\n we show that the time dependence of speckle pattern is determined by the relaxation dynamics of photo - created ferroelectric cluster , which is manifested as a central peak in the phonon spectral function . \\n the photorelaxation of ferroelectric cluster is featured by a critical slowing down on decreasing the temperature . near the @xmath1 \\n , cluster excitation is stablized by the strong dipole fluctuation , correspondingly the relaxation becomes slow . while , at higher temperature , dipole fluctuation is suppressed , ending up with a quicker relaxation of cluster . \\n our simulation also illustrates that the critical slowing down and dipole fluctuation are subject to the chemical environment of crystal . \\n this work is supported by the next generation supercomputer project , nanoscience program , mext , japan . \\n r. z. tai , k. namikawa , m. kishimoto , m. tanaka , k. sukegawa , n. hasegawa , t. kawachi , m. kado , p. lu , k. nagashima , h. daido , h. maruyama , a. sawada , m. ando , and y. kato , phys . \\n lett . * 89 * , 257602 ( 2002 ) .',\n",
       "  'abstract': 'time - dependent speckle pattern of paraelectric barium titanate observed in a soft x - ray laser pump - probe measurement is theoretically investigated as a correlated optical response to the pump and probe pulses . \\n the scattering probability is calculated based on a model with coupled soft x - ray photon and ferroelectric phonon mode . \\n it is found that the speckle variation is related with the relaxation dynamics of ferroelectric clusters created by the pump pulse . \\n additionally , critical slowing down of cluster relaxation arises on decreasing temperature towards the paraelectric - ferroelectric transition temperature . \\n relation between critical slowing down , local dipole fluctuation and crystal structure are revealed by quantum monte carlo simulation .'}]"
      ]
     },
     "execution_count": 11,
     "metadata": {},
     "output_type": "execute_result"
    }
   ],
   "source": [
    "samples = reservoir.get_samples()\n",
    "samples"
   ]
  },
  {
   "cell_type": "code",
   "execution_count": 7,
   "metadata": {},
   "outputs": [],
   "source": [
    "from skopt.space import Integer\n",
    "\n",
    "# Definir o espaço de busca\n",
    "space  = [\n",
    "\tInteger(0, 151642,   name='token0'),\n",
    "\tInteger(0, 151642,   name='token1'),\n",
    "\tInteger(0, 151642,   name='token2'),\n",
    "\tInteger(0, 151642,   name='token3'),\n",
    "\tInteger(0, 151642,   name='token4'),\n",
    "\tInteger(0, 151642,   name='token5'),\n",
    "\tInteger(0, 151642,   name='token6'),\n",
    "\tInteger(0, 151642,   name='token7'),\n",
    "\tInteger(0, 151642,   name='token8'),\n",
    "\tInteger(0, 151642,   name='token9'),\n",
    "\tInteger(0, 151642,   name='token10'),\n",
    "\tInteger(0, 151642,   name='token11'),\n",
    "\tInteger(0, 151642,   name='token12'),\n",
    "\tInteger(0, 151642,   name='token13'),\n",
    "\tInteger(0, 151642,   name='token14'),\n",
    "\tInteger(0, 151642,   name='token15'),\n",
    "\tInteger(0, 151642,   name='token16'),\n",
    "\tInteger(0, 151642,   name='token17'),\n",
    "\tInteger(0, 151642,   name='token18'),\n",
    "\tInteger(0, 151642,   name='token19'),\n",
    "  \tInteger(1, 2000,\t name='temp'), # Define o espaço inteiro para o intervalo [0, 2] com 3 casas decimais\n",
    "\tInteger(1, 1000, \t name='top_k'), # Define o espaço inteiro para o intervalo [0, 1] com 3 casas decimais\n",
    "\tInteger(1, 1000,\t name='top_p') # Define o espaço inteiro para o intervalo [0, 1] com 3 casas decimais\n",
    "]"
   ]
  },
  {
   "cell_type": "code",
   "execution_count": 8,
   "metadata": {},
   "outputs": [],
   "source": [
    "from tqdm import tqdm\n",
    "from skopt.utils import use_named_args\n",
    "import numpy as np\n",
    "\n",
    "@use_named_args(space)\n",
    "def objective(\n",
    "\ttoken0,token1,token2,token3,token4,token5,token6,token7,token8,token9,\n",
    "\ttoken10,token11,token12,token13,token14,token15,token16,token17,token18,token19,\n",
    "\ttemp, top_k, top_p):\n",
    "\t\n",
    "\ttemp = round(temp/1000,3)\n",
    "\ttop_k = round(top_k/1000,3)\n",
    "\ttop_p = round(top_p/1000,3)\n",
    "\t\n",
    "\tbleus = []\n",
    "\tsamples = reservoir.get_samples()\n",
    " \n",
    "\tfor i, ex in tqdm(enumerate(samples), total=len(samples)): \n",
    "\t\ttexto_gerado = create_completion(\n",
    "\t\t\tword_tokenize.decode([token0,token1,token2,token3,token4,token5,token6,token7,token8,token9])+\"\\n\"+\n",
    "\t\t\tex['article']+\"\\n\"+\n",
    "\t\t\tword_tokenize.decode([token10,token11,token12,token13,token14,token15,token16,token17,token18,token19]),\n",
    "   \t\t\tlen(word_tokenize(ex['abstract']).input_ids),\n",
    "\t\t\ttemp,\n",
    "\t\t\ttop_p,\n",
    "\t\t\ttop_k\n",
    "\t\t)\n",
    "\n",
    "\t\tbleu_score = calcular_bleu(\n",
    "\t\t\ttexto_gerado, \n",
    "\t\t\tex['abstract']\n",
    "\t\t)\n",
    "\t\tbleus.append(bleu_score)\n",
    "\n",
    "\t# BLEU médio\n",
    "\tbleu_medio = np.mean(bleus)\n",
    "\treturn 1-bleu_medio"
   ]
  },
  {
   "cell_type": "code",
   "execution_count": 12,
   "metadata": {},
   "outputs": [],
   "source": [
    "from tqdm import tqdm\n",
    "from skopt.utils import use_named_args\n",
    "import numpy as np\n",
    "\n",
    "# Estado global para controle\n",
    "melhor_bleu_global = 1\n",
    "samples_cache = None\n",
    "\n",
    "@use_named_args(space)\n",
    "def objective(\n",
    "\ttoken0,token1,token2,token3,token4,token5,token6,token7,token8,token9,\n",
    "\ttoken10,token11,token12,token13,token14,token15,token16,token17,token18,token19,\n",
    "\ttemp, top_k, top_p):\n",
    "\n",
    "\tglobal melhor_bleu_global, samples_cache\n",
    "\n",
    "\ttemp = round(temp/1000, 3)\n",
    "\ttop_k = round(top_k/1000, 3)\n",
    "\ttop_p = round(top_p/1000, 3)\n",
    "\n",
    "\t# Só atualiza os samples se o BLEU melhorou pelo menos 2%\n",
    "\tif samples_cache is None:\n",
    "\t\tsamples_cache = reservoir.get_samples()\n",
    "\n",
    "\tbleus = []\n",
    "\tfor i, ex in tqdm(enumerate(samples_cache), total=len(samples_cache)):\n",
    "\t\ttexto_gerado = create_completion(\n",
    "\t\t\tword_tokenize.decode([token0,token1,token2,token3,token4,token5,token6,token7,token8,token9]) + \"\\n\" +\n",
    "\t\t\tex['article'] + \"\\n\" +\n",
    "\t\t\tword_tokenize.decode([token10,token11,token12,token13,token14,token15,token16,token17,token18,token19]),\n",
    "\t\t\tlen(word_tokenize(ex['abstract']).input_ids),\n",
    "\t\t\ttemp,\n",
    "\t\t\ttop_p,\n",
    "\t\t\ttop_k\n",
    "\t\t)\n",
    "\t\tbleu_score = calcular_bleu(texto_gerado, ex['abstract'])\n",
    "\t\tbleus.append(bleu_score)\n",
    "\n",
    "\tbleu_medio = 1 - np.mean(bleus)\n",
    "\tprint(bleu_medio,melhor_bleu_global,melhor_bleu_global * 0.98)\n",
    "\n",
    "\t# Atualiza amostras apenas se melhorar mais que 2%\n",
    "\tif bleu_medio < melhor_bleu_global * 0.98:\n",
    "\t\tmelhor_bleu_global = bleu_medio\n",
    "\t\tsamples_cache = reservoir.get_samples()\n",
    "\n",
    "\treturn bleu_medio\n"
   ]
  },
  {
   "cell_type": "code",
   "execution_count": 13,
   "metadata": {},
   "outputs": [
    {
     "name": "stderr",
     "output_type": "stream",
     "text": [
      "100%|██████████| 5/5 [00:32<00:00,  6.56s/it]\n"
     ]
    },
    {
     "name": "stdout",
     "output_type": "stream",
     "text": [
      "0.9609968404815086 1 0.98\n"
     ]
    },
    {
     "name": "stderr",
     "output_type": "stream",
     "text": [
      "100%|██████████| 5/5 [00:32<00:00,  6.58s/it]\n"
     ]
    },
    {
     "name": "stdout",
     "output_type": "stream",
     "text": [
      "0.979561188308455 0.9609968404815086 0.9417769036718784\n"
     ]
    },
    {
     "name": "stderr",
     "output_type": "stream",
     "text": [
      "100%|██████████| 5/5 [00:33<00:00,  6.60s/it]\n"
     ]
    },
    {
     "name": "stdout",
     "output_type": "stream",
     "text": [
      "0.9833200768313053 0.9609968404815086 0.9417769036718784\n"
     ]
    },
    {
     "name": "stderr",
     "output_type": "stream",
     "text": [
      "100%|██████████| 5/5 [00:33<00:00,  6.62s/it]\n"
     ]
    },
    {
     "name": "stdout",
     "output_type": "stream",
     "text": [
      "0.9436003278865872 0.9609968404815086 0.9417769036718784\n"
     ]
    },
    {
     "name": "stderr",
     "output_type": "stream",
     "text": [
      "100%|██████████| 5/5 [00:32<00:00,  6.52s/it]\n"
     ]
    },
    {
     "name": "stdout",
     "output_type": "stream",
     "text": [
      "0.950570314744267 0.9609968404815086 0.9417769036718784\n"
     ]
    },
    {
     "name": "stderr",
     "output_type": "stream",
     "text": [
      "100%|██████████| 5/5 [00:32<00:00,  6.59s/it]\n"
     ]
    },
    {
     "name": "stdout",
     "output_type": "stream",
     "text": [
      "0.9593431732940411 0.9609968404815086 0.9417769036718784\n"
     ]
    },
    {
     "name": "stderr",
     "output_type": "stream",
     "text": [
      "100%|██████████| 5/5 [00:33<00:00,  6.64s/it]\n"
     ]
    },
    {
     "name": "stdout",
     "output_type": "stream",
     "text": [
      "0.9529183851871371 0.9609968404815086 0.9417769036718784\n"
     ]
    },
    {
     "name": "stderr",
     "output_type": "stream",
     "text": [
      "100%|██████████| 5/5 [00:33<00:00,  6.66s/it]\n"
     ]
    },
    {
     "name": "stdout",
     "output_type": "stream",
     "text": [
      "0.9190323071064416 0.9609968404815086 0.9417769036718784\n"
     ]
    },
    {
     "name": "stderr",
     "output_type": "stream",
     "text": [
      "100%|██████████| 5/5 [00:33<00:00,  6.69s/it]\n"
     ]
    },
    {
     "name": "stdout",
     "output_type": "stream",
     "text": [
      "0.939376007226595 0.9190323071064416 0.9006516609643127\n"
     ]
    },
    {
     "name": "stderr",
     "output_type": "stream",
     "text": [
      "100%|██████████| 5/5 [00:33<00:00,  6.65s/it]\n"
     ]
    },
    {
     "name": "stdout",
     "output_type": "stream",
     "text": [
      "0.9628736400627965 0.9190323071064416 0.9006516609643127\n"
     ]
    },
    {
     "name": "stderr",
     "output_type": "stream",
     "text": [
      "100%|██████████| 5/5 [00:33<00:00,  6.64s/it]\n"
     ]
    },
    {
     "name": "stdout",
     "output_type": "stream",
     "text": [
      "0.9648985561193373 0.9190323071064416 0.9006516609643127\n"
     ]
    },
    {
     "name": "stderr",
     "output_type": "stream",
     "text": [
      "100%|██████████| 5/5 [00:33<00:00,  6.65s/it]\n"
     ]
    },
    {
     "name": "stdout",
     "output_type": "stream",
     "text": [
      "0.9563256925924991 0.9190323071064416 0.9006516609643127\n"
     ]
    },
    {
     "name": "stderr",
     "output_type": "stream",
     "text": [
      "100%|██████████| 5/5 [00:33<00:00,  6.64s/it]\n"
     ]
    },
    {
     "name": "stdout",
     "output_type": "stream",
     "text": [
      "0.9493457038800497 0.9190323071064416 0.9006516609643127\n"
     ]
    },
    {
     "name": "stderr",
     "output_type": "stream",
     "text": [
      "100%|██████████| 5/5 [00:33<00:00,  6.63s/it]\n"
     ]
    },
    {
     "name": "stdout",
     "output_type": "stream",
     "text": [
      "0.9679426014033502 0.9190323071064416 0.9006516609643127\n"
     ]
    },
    {
     "name": "stderr",
     "output_type": "stream",
     "text": [
      "100%|██████████| 5/5 [00:33<00:00,  6.64s/it]\n"
     ]
    },
    {
     "name": "stdout",
     "output_type": "stream",
     "text": [
      "0.960198423867292 0.9190323071064416 0.9006516609643127\n"
     ]
    },
    {
     "name": "stderr",
     "output_type": "stream",
     "text": [
      "100%|██████████| 5/5 [00:33<00:00,  6.63s/it]\n"
     ]
    },
    {
     "name": "stdout",
     "output_type": "stream",
     "text": [
      "0.9539427893576444 0.9190323071064416 0.9006516609643127\n"
     ]
    },
    {
     "name": "stderr",
     "output_type": "stream",
     "text": [
      "100%|██████████| 5/5 [00:33<00:00,  6.64s/it]\n"
     ]
    },
    {
     "name": "stdout",
     "output_type": "stream",
     "text": [
      "0.9476816548287119 0.9190323071064416 0.9006516609643127\n"
     ]
    },
    {
     "name": "stderr",
     "output_type": "stream",
     "text": [
      "100%|██████████| 5/5 [00:32<00:00,  6.46s/it]\n"
     ]
    },
    {
     "name": "stdout",
     "output_type": "stream",
     "text": [
      "0.9837309934670866 0.9190323071064416 0.9006516609643127\n"
     ]
    },
    {
     "name": "stderr",
     "output_type": "stream",
     "text": [
      "100%|██████████| 5/5 [00:33<00:00,  6.64s/it]\n"
     ]
    },
    {
     "name": "stdout",
     "output_type": "stream",
     "text": [
      "0.9376146650480786 0.9190323071064416 0.9006516609643127\n"
     ]
    },
    {
     "name": "stderr",
     "output_type": "stream",
     "text": [
      "100%|██████████| 5/5 [00:33<00:00,  6.66s/it]\n"
     ]
    },
    {
     "name": "stdout",
     "output_type": "stream",
     "text": [
      "0.9397329091430884 0.9190323071064416 0.9006516609643127\n"
     ]
    },
    {
     "name": "stderr",
     "output_type": "stream",
     "text": [
      "100%|██████████| 5/5 [00:33<00:00,  6.67s/it]\n"
     ]
    },
    {
     "name": "stdout",
     "output_type": "stream",
     "text": [
      "0.9530926397560163 0.9190323071064416 0.9006516609643127\n"
     ]
    },
    {
     "name": "stderr",
     "output_type": "stream",
     "text": [
      "100%|██████████| 5/5 [00:33<00:00,  6.66s/it]\n"
     ]
    },
    {
     "name": "stdout",
     "output_type": "stream",
     "text": [
      "0.974520552154411 0.9190323071064416 0.9006516609643127\n"
     ]
    },
    {
     "name": "stderr",
     "output_type": "stream",
     "text": [
      "100%|██████████| 5/5 [00:33<00:00,  6.67s/it]\n"
     ]
    },
    {
     "name": "stdout",
     "output_type": "stream",
     "text": [
      "0.9507961543380373 0.9190323071064416 0.9006516609643127\n"
     ]
    },
    {
     "name": "stderr",
     "output_type": "stream",
     "text": [
      "100%|██████████| 5/5 [00:33<00:00,  6.66s/it]\n"
     ]
    },
    {
     "name": "stdout",
     "output_type": "stream",
     "text": [
      "0.9505904724116954 0.9190323071064416 0.9006516609643127\n"
     ]
    },
    {
     "name": "stderr",
     "output_type": "stream",
     "text": [
      "100%|██████████| 5/5 [00:33<00:00,  6.66s/it]\n"
     ]
    },
    {
     "name": "stdout",
     "output_type": "stream",
     "text": [
      "0.967349715462414 0.9190323071064416 0.9006516609643127\n"
     ]
    },
    {
     "name": "stderr",
     "output_type": "stream",
     "text": [
      "100%|██████████| 5/5 [00:33<00:00,  6.65s/it]\n"
     ]
    },
    {
     "name": "stdout",
     "output_type": "stream",
     "text": [
      "0.9293135385933395 0.9190323071064416 0.9006516609643127\n"
     ]
    },
    {
     "name": "stderr",
     "output_type": "stream",
     "text": [
      "100%|██████████| 5/5 [00:33<00:00,  6.64s/it]\n"
     ]
    },
    {
     "name": "stdout",
     "output_type": "stream",
     "text": [
      "0.9493239770657351 0.9190323071064416 0.9006516609643127\n"
     ]
    },
    {
     "name": "stderr",
     "output_type": "stream",
     "text": [
      "100%|██████████| 5/5 [00:32<00:00,  6.53s/it]\n"
     ]
    },
    {
     "name": "stdout",
     "output_type": "stream",
     "text": [
      "0.9778211997026256 0.9190323071064416 0.9006516609643127\n"
     ]
    },
    {
     "name": "stderr",
     "output_type": "stream",
     "text": [
      "100%|██████████| 5/5 [00:32<00:00,  6.54s/it]\n"
     ]
    },
    {
     "name": "stdout",
     "output_type": "stream",
     "text": [
      "0.9751731040260286 0.9190323071064416 0.9006516609643127\n"
     ]
    },
    {
     "name": "stderr",
     "output_type": "stream",
     "text": [
      "100%|██████████| 5/5 [00:32<00:00,  6.52s/it]\n"
     ]
    },
    {
     "name": "stdout",
     "output_type": "stream",
     "text": [
      "0.9518227525869554 0.9190323071064416 0.9006516609643127\n"
     ]
    },
    {
     "name": "stderr",
     "output_type": "stream",
     "text": [
      "100%|██████████| 5/5 [00:32<00:00,  6.53s/it]\n"
     ]
    },
    {
     "name": "stdout",
     "output_type": "stream",
     "text": [
      "0.9215837550171413 0.9190323071064416 0.9006516609643127\n"
     ]
    },
    {
     "name": "stderr",
     "output_type": "stream",
     "text": [
      "100%|██████████| 5/5 [00:32<00:00,  6.54s/it]\n"
     ]
    },
    {
     "name": "stdout",
     "output_type": "stream",
     "text": [
      "0.9258735678406356 0.9190323071064416 0.9006516609643127\n"
     ]
    },
    {
     "name": "stderr",
     "output_type": "stream",
     "text": [
      "100%|██████████| 5/5 [00:32<00:00,  6.56s/it]\n"
     ]
    },
    {
     "name": "stdout",
     "output_type": "stream",
     "text": [
      "0.9343452499878842 0.9190323071064416 0.9006516609643127\n"
     ]
    },
    {
     "name": "stderr",
     "output_type": "stream",
     "text": [
      "100%|██████████| 5/5 [00:32<00:00,  6.53s/it]\n"
     ]
    },
    {
     "name": "stdout",
     "output_type": "stream",
     "text": [
      "0.9506255981096652 0.9190323071064416 0.9006516609643127\n"
     ]
    },
    {
     "name": "stderr",
     "output_type": "stream",
     "text": [
      "100%|██████████| 5/5 [00:32<00:00,  6.53s/it]\n"
     ]
    },
    {
     "name": "stdout",
     "output_type": "stream",
     "text": [
      "0.9774303341836111 0.9190323071064416 0.9006516609643127\n"
     ]
    },
    {
     "name": "stderr",
     "output_type": "stream",
     "text": [
      "100%|██████████| 5/5 [00:32<00:00,  6.53s/it]\n"
     ]
    },
    {
     "name": "stdout",
     "output_type": "stream",
     "text": [
      "0.960299737416697 0.9190323071064416 0.9006516609643127\n"
     ]
    },
    {
     "name": "stderr",
     "output_type": "stream",
     "text": [
      " 60%|██████    | 3/5 [28:46<19:11, 575.51s/it]\n"
     ]
    },
    {
     "ename": "KeyboardInterrupt",
     "evalue": "",
     "output_type": "error",
     "traceback": [
      "\u001b[0;31m---------------------------------------------------------------------------\u001b[0m",
      "\u001b[0;31mKeyboardInterrupt\u001b[0m                         Traceback (most recent call last)",
      "Cell \u001b[0;32mIn[13], line 3\u001b[0m\n\u001b[1;32m      1\u001b[0m \u001b[38;5;28;01mfrom\u001b[39;00m \u001b[38;5;21;01mskopt\u001b[39;00m \u001b[38;5;28;01mimport\u001b[39;00m gp_minimize\n\u001b[0;32m----> 3\u001b[0m result \u001b[38;5;241m=\u001b[39m gp_minimize(\n\u001b[1;32m      4\u001b[0m \tfunc\u001b[38;5;241m=\u001b[39mobjective,\n\u001b[1;32m      5\u001b[0m \tdimensions\u001b[38;5;241m=\u001b[39mspace,\n\u001b[1;32m      6\u001b[0m \tn_calls\u001b[38;5;241m=\u001b[39m\u001b[38;5;241m100\u001b[39m,\n\u001b[1;32m      7\u001b[0m \trandom_state\u001b[38;5;241m=\u001b[39m\u001b[38;5;241m0\u001b[39m,\n\u001b[1;32m      8\u001b[0m \tn_initial_points\u001b[38;5;241m=\u001b[39m\u001b[38;5;241m5\u001b[39m\n\u001b[1;32m      9\u001b[0m )\n",
      "File \u001b[0;32m~/anaconda3/lib/python3.12/site-packages/skopt/optimizer/gp.py:281\u001b[0m, in \u001b[0;36mgp_minimize\u001b[0;34m(func, dimensions, base_estimator, n_calls, n_random_starts, n_initial_points, initial_point_generator, acq_func, acq_optimizer, x0, y0, random_state, verbose, callback, n_points, n_restarts_optimizer, xi, kappa, noise, n_jobs, model_queue_size, space_constraint)\u001b[0m\n\u001b[1;32m    273\u001b[0m \u001b[38;5;28;01mif\u001b[39;00m base_estimator \u001b[38;5;129;01mis\u001b[39;00m \u001b[38;5;28;01mNone\u001b[39;00m:\n\u001b[1;32m    274\u001b[0m     base_estimator \u001b[38;5;241m=\u001b[39m cook_estimator(\n\u001b[1;32m    275\u001b[0m         \u001b[38;5;124m\"\u001b[39m\u001b[38;5;124mGP\u001b[39m\u001b[38;5;124m\"\u001b[39m,\n\u001b[1;32m    276\u001b[0m         space\u001b[38;5;241m=\u001b[39mspace,\n\u001b[1;32m    277\u001b[0m         random_state\u001b[38;5;241m=\u001b[39mrng\u001b[38;5;241m.\u001b[39mrandint(\u001b[38;5;241m0\u001b[39m, np\u001b[38;5;241m.\u001b[39miinfo(np\u001b[38;5;241m.\u001b[39mint32)\u001b[38;5;241m.\u001b[39mmax),\n\u001b[1;32m    278\u001b[0m         noise\u001b[38;5;241m=\u001b[39mnoise,\n\u001b[1;32m    279\u001b[0m     )\n\u001b[0;32m--> 281\u001b[0m \u001b[38;5;28;01mreturn\u001b[39;00m base_minimize(\n\u001b[1;32m    282\u001b[0m     func,\n\u001b[1;32m    283\u001b[0m     space,\n\u001b[1;32m    284\u001b[0m     base_estimator\u001b[38;5;241m=\u001b[39mbase_estimator,\n\u001b[1;32m    285\u001b[0m     acq_func\u001b[38;5;241m=\u001b[39macq_func,\n\u001b[1;32m    286\u001b[0m     xi\u001b[38;5;241m=\u001b[39mxi,\n\u001b[1;32m    287\u001b[0m     kappa\u001b[38;5;241m=\u001b[39mkappa,\n\u001b[1;32m    288\u001b[0m     acq_optimizer\u001b[38;5;241m=\u001b[39macq_optimizer,\n\u001b[1;32m    289\u001b[0m     n_calls\u001b[38;5;241m=\u001b[39mn_calls,\n\u001b[1;32m    290\u001b[0m     n_points\u001b[38;5;241m=\u001b[39mn_points,\n\u001b[1;32m    291\u001b[0m     n_random_starts\u001b[38;5;241m=\u001b[39mn_random_starts,\n\u001b[1;32m    292\u001b[0m     n_initial_points\u001b[38;5;241m=\u001b[39mn_initial_points,\n\u001b[1;32m    293\u001b[0m     initial_point_generator\u001b[38;5;241m=\u001b[39minitial_point_generator,\n\u001b[1;32m    294\u001b[0m     n_restarts_optimizer\u001b[38;5;241m=\u001b[39mn_restarts_optimizer,\n\u001b[1;32m    295\u001b[0m     x0\u001b[38;5;241m=\u001b[39mx0,\n\u001b[1;32m    296\u001b[0m     y0\u001b[38;5;241m=\u001b[39my0,\n\u001b[1;32m    297\u001b[0m     random_state\u001b[38;5;241m=\u001b[39mrng,\n\u001b[1;32m    298\u001b[0m     verbose\u001b[38;5;241m=\u001b[39mverbose,\n\u001b[1;32m    299\u001b[0m     space_constraint\u001b[38;5;241m=\u001b[39mspace_constraint,\n\u001b[1;32m    300\u001b[0m     callback\u001b[38;5;241m=\u001b[39mcallback,\n\u001b[1;32m    301\u001b[0m     n_jobs\u001b[38;5;241m=\u001b[39mn_jobs,\n\u001b[1;32m    302\u001b[0m     model_queue_size\u001b[38;5;241m=\u001b[39mmodel_queue_size,\n\u001b[1;32m    303\u001b[0m )\n",
      "File \u001b[0;32m~/anaconda3/lib/python3.12/site-packages/skopt/optimizer/base.py:332\u001b[0m, in \u001b[0;36mbase_minimize\u001b[0;34m(func, dimensions, base_estimator, n_calls, n_random_starts, n_initial_points, initial_point_generator, acq_func, acq_optimizer, x0, y0, random_state, verbose, callback, n_points, n_restarts_optimizer, xi, kappa, n_jobs, model_queue_size, space_constraint)\u001b[0m\n\u001b[1;32m    330\u001b[0m \u001b[38;5;28;01mfor\u001b[39;00m _ \u001b[38;5;129;01min\u001b[39;00m \u001b[38;5;28mrange\u001b[39m(n_calls):\n\u001b[1;32m    331\u001b[0m     next_x \u001b[38;5;241m=\u001b[39m optimizer\u001b[38;5;241m.\u001b[39mask()\n\u001b[0;32m--> 332\u001b[0m     next_y \u001b[38;5;241m=\u001b[39m func(next_x)\n\u001b[1;32m    333\u001b[0m     result \u001b[38;5;241m=\u001b[39m optimizer\u001b[38;5;241m.\u001b[39mtell(next_x, next_y)\n\u001b[1;32m    334\u001b[0m     result\u001b[38;5;241m.\u001b[39mspecs \u001b[38;5;241m=\u001b[39m specs\n",
      "File \u001b[0;32m~/anaconda3/lib/python3.12/site-packages/skopt/utils.py:779\u001b[0m, in \u001b[0;36muse_named_args.<locals>.decorator.<locals>.wrapper\u001b[0;34m(x)\u001b[0m\n\u001b[1;32m    776\u001b[0m arg_dict \u001b[38;5;241m=\u001b[39m {dim\u001b[38;5;241m.\u001b[39mname: value \u001b[38;5;28;01mfor\u001b[39;00m dim, value \u001b[38;5;129;01min\u001b[39;00m \u001b[38;5;28mzip\u001b[39m(dimensions, x)}\n\u001b[1;32m    778\u001b[0m \u001b[38;5;66;03m# Call the wrapped objective function with the named arguments.\u001b[39;00m\n\u001b[0;32m--> 779\u001b[0m objective_value \u001b[38;5;241m=\u001b[39m func(\u001b[38;5;241m*\u001b[39m\u001b[38;5;241m*\u001b[39marg_dict)\n\u001b[1;32m    781\u001b[0m \u001b[38;5;28;01mreturn\u001b[39;00m objective_value\n",
      "Cell \u001b[0;32mIn[12], line 27\u001b[0m, in \u001b[0;36mobjective\u001b[0;34m(token0, token1, token2, token3, token4, token5, token6, token7, token8, token9, token10, token11, token12, token13, token14, token15, token16, token17, token18, token19, temp, top_k, top_p)\u001b[0m\n\u001b[1;32m     25\u001b[0m bleus \u001b[38;5;241m=\u001b[39m []\n\u001b[1;32m     26\u001b[0m \u001b[38;5;28;01mfor\u001b[39;00m i, ex \u001b[38;5;129;01min\u001b[39;00m tqdm(\u001b[38;5;28menumerate\u001b[39m(samples_cache), total\u001b[38;5;241m=\u001b[39m\u001b[38;5;28mlen\u001b[39m(samples_cache)):\n\u001b[0;32m---> 27\u001b[0m \ttexto_gerado \u001b[38;5;241m=\u001b[39m create_completion(\n\u001b[1;32m     28\u001b[0m \t\tword_tokenize\u001b[38;5;241m.\u001b[39mdecode([token0,token1,token2,token3,token4,token5,token6,token7,token8,token9]) \u001b[38;5;241m+\u001b[39m \u001b[38;5;124m\"\u001b[39m\u001b[38;5;130;01m\\n\u001b[39;00m\u001b[38;5;124m\"\u001b[39m \u001b[38;5;241m+\u001b[39m\n\u001b[1;32m     29\u001b[0m \t\tex[\u001b[38;5;124m'\u001b[39m\u001b[38;5;124marticle\u001b[39m\u001b[38;5;124m'\u001b[39m] \u001b[38;5;241m+\u001b[39m \u001b[38;5;124m\"\u001b[39m\u001b[38;5;130;01m\\n\u001b[39;00m\u001b[38;5;124m\"\u001b[39m \u001b[38;5;241m+\u001b[39m\n\u001b[1;32m     30\u001b[0m \t\tword_tokenize\u001b[38;5;241m.\u001b[39mdecode([token10,token11,token12,token13,token14,token15,token16,token17,token18,token19]),\n\u001b[1;32m     31\u001b[0m \t\t\u001b[38;5;28mlen\u001b[39m(word_tokenize(ex[\u001b[38;5;124m'\u001b[39m\u001b[38;5;124mabstract\u001b[39m\u001b[38;5;124m'\u001b[39m])\u001b[38;5;241m.\u001b[39minput_ids),\n\u001b[1;32m     32\u001b[0m \t\ttemp,\n\u001b[1;32m     33\u001b[0m \t\ttop_p,\n\u001b[1;32m     34\u001b[0m \t\ttop_k\n\u001b[1;32m     35\u001b[0m \t)\n\u001b[1;32m     36\u001b[0m \tbleu_score \u001b[38;5;241m=\u001b[39m calcular_bleu(texto_gerado, ex[\u001b[38;5;124m'\u001b[39m\u001b[38;5;124mabstract\u001b[39m\u001b[38;5;124m'\u001b[39m])\n\u001b[1;32m     37\u001b[0m \tbleus\u001b[38;5;241m.\u001b[39mappend(bleu_score)\n",
      "Cell \u001b[0;32mIn[3], line 5\u001b[0m, in \u001b[0;36mcreate_completion\u001b[0;34m(prompt, max_tokens, temperature, top_p, top_k)\u001b[0m\n\u001b[1;32m      3\u001b[0m \u001b[38;5;28;01mdef\u001b[39;00m \u001b[38;5;21mcreate_completion\u001b[39m(prompt, max_tokens, temperature, top_p, top_k):\n\u001b[1;32m      4\u001b[0m \t\u001b[38;5;28;01mtry\u001b[39;00m:\n\u001b[0;32m----> 5\u001b[0m \t\tresponse \u001b[38;5;241m=\u001b[39m requests\u001b[38;5;241m.\u001b[39mpost(\u001b[38;5;124m\"\u001b[39m\u001b[38;5;124mhttp://localhost:1234/v1/completions\u001b[39m\u001b[38;5;124m\"\u001b[39m, json\u001b[38;5;241m=\u001b[39m{\n\u001b[1;32m      6\u001b[0m \t\t\t\u001b[38;5;124m\"\u001b[39m\u001b[38;5;124mmodel\u001b[39m\u001b[38;5;124m\"\u001b[39m: \u001b[38;5;124m\"\u001b[39m\u001b[38;5;124mdeepseek-r1-distill-qwen-1.5b\u001b[39m\u001b[38;5;124m\"\u001b[39m,\n\u001b[1;32m      7\u001b[0m \t\t\t\u001b[38;5;124m\"\u001b[39m\u001b[38;5;124mprompt\u001b[39m\u001b[38;5;124m\"\u001b[39m: prompt,\n\u001b[1;32m      8\u001b[0m \t\t\t\u001b[38;5;124m\"\u001b[39m\u001b[38;5;124mmax_tokens\u001b[39m\u001b[38;5;124m\"\u001b[39m: \u001b[38;5;28mint\u001b[39m(max_tokens),\n\u001b[1;32m      9\u001b[0m \t\t\t\u001b[38;5;124m\"\u001b[39m\u001b[38;5;124mtemperature\u001b[39m\u001b[38;5;124m\"\u001b[39m: \u001b[38;5;28mfloat\u001b[39m(temperature),\n\u001b[1;32m     10\u001b[0m \t\t\t\u001b[38;5;124m\"\u001b[39m\u001b[38;5;124mtop_p\u001b[39m\u001b[38;5;124m\"\u001b[39m: \u001b[38;5;28mfloat\u001b[39m(top_p),\n\u001b[1;32m     11\u001b[0m \t\t\t\u001b[38;5;124m\"\u001b[39m\u001b[38;5;124mtop_k\u001b[39m\u001b[38;5;124m\"\u001b[39m: \u001b[38;5;28mint\u001b[39m(top_k),\n\u001b[1;32m     12\u001b[0m \t\t\t\u001b[38;5;124m\"\u001b[39m\u001b[38;5;124mstream\u001b[39m\u001b[38;5;124m\"\u001b[39m: \u001b[38;5;28;01mFalse\u001b[39;00m\n\u001b[1;32m     13\u001b[0m \t\t})\n\u001b[1;32m     14\u001b[0m \t\tresponse\u001b[38;5;241m.\u001b[39mraise_for_status()  \u001b[38;5;66;03m# Lança erro se o status HTTP for 4xx ou 5xx\u001b[39;00m\n\u001b[1;32m     15\u001b[0m \t\tresult \u001b[38;5;241m=\u001b[39m response\u001b[38;5;241m.\u001b[39mjson()\n",
      "File \u001b[0;32m~/anaconda3/lib/python3.12/site-packages/requests/api.py:115\u001b[0m, in \u001b[0;36mpost\u001b[0;34m(url, data, json, **kwargs)\u001b[0m\n\u001b[1;32m    103\u001b[0m \u001b[38;5;28;01mdef\u001b[39;00m \u001b[38;5;21mpost\u001b[39m(url, data\u001b[38;5;241m=\u001b[39m\u001b[38;5;28;01mNone\u001b[39;00m, json\u001b[38;5;241m=\u001b[39m\u001b[38;5;28;01mNone\u001b[39;00m, \u001b[38;5;241m*\u001b[39m\u001b[38;5;241m*\u001b[39mkwargs):\n\u001b[1;32m    104\u001b[0m \u001b[38;5;250m    \u001b[39m\u001b[38;5;124mr\u001b[39m\u001b[38;5;124;03m\"\"\"Sends a POST request.\u001b[39;00m\n\u001b[1;32m    105\u001b[0m \n\u001b[1;32m    106\u001b[0m \u001b[38;5;124;03m    :param url: URL for the new :class:`Request` object.\u001b[39;00m\n\u001b[0;32m   (...)\u001b[0m\n\u001b[1;32m    112\u001b[0m \u001b[38;5;124;03m    :rtype: requests.Response\u001b[39;00m\n\u001b[1;32m    113\u001b[0m \u001b[38;5;124;03m    \"\"\"\u001b[39;00m\n\u001b[0;32m--> 115\u001b[0m     \u001b[38;5;28;01mreturn\u001b[39;00m request(\u001b[38;5;124m\"\u001b[39m\u001b[38;5;124mpost\u001b[39m\u001b[38;5;124m\"\u001b[39m, url, data\u001b[38;5;241m=\u001b[39mdata, json\u001b[38;5;241m=\u001b[39mjson, \u001b[38;5;241m*\u001b[39m\u001b[38;5;241m*\u001b[39mkwargs)\n",
      "File \u001b[0;32m~/anaconda3/lib/python3.12/site-packages/requests/api.py:59\u001b[0m, in \u001b[0;36mrequest\u001b[0;34m(method, url, **kwargs)\u001b[0m\n\u001b[1;32m     55\u001b[0m \u001b[38;5;66;03m# By using the 'with' statement we are sure the session is closed, thus we\u001b[39;00m\n\u001b[1;32m     56\u001b[0m \u001b[38;5;66;03m# avoid leaving sockets open which can trigger a ResourceWarning in some\u001b[39;00m\n\u001b[1;32m     57\u001b[0m \u001b[38;5;66;03m# cases, and look like a memory leak in others.\u001b[39;00m\n\u001b[1;32m     58\u001b[0m \u001b[38;5;28;01mwith\u001b[39;00m sessions\u001b[38;5;241m.\u001b[39mSession() \u001b[38;5;28;01mas\u001b[39;00m session:\n\u001b[0;32m---> 59\u001b[0m     \u001b[38;5;28;01mreturn\u001b[39;00m session\u001b[38;5;241m.\u001b[39mrequest(method\u001b[38;5;241m=\u001b[39mmethod, url\u001b[38;5;241m=\u001b[39murl, \u001b[38;5;241m*\u001b[39m\u001b[38;5;241m*\u001b[39mkwargs)\n",
      "File \u001b[0;32m~/anaconda3/lib/python3.12/site-packages/requests/sessions.py:589\u001b[0m, in \u001b[0;36mSession.request\u001b[0;34m(self, method, url, params, data, headers, cookies, files, auth, timeout, allow_redirects, proxies, hooks, stream, verify, cert, json)\u001b[0m\n\u001b[1;32m    584\u001b[0m send_kwargs \u001b[38;5;241m=\u001b[39m {\n\u001b[1;32m    585\u001b[0m     \u001b[38;5;124m\"\u001b[39m\u001b[38;5;124mtimeout\u001b[39m\u001b[38;5;124m\"\u001b[39m: timeout,\n\u001b[1;32m    586\u001b[0m     \u001b[38;5;124m\"\u001b[39m\u001b[38;5;124mallow_redirects\u001b[39m\u001b[38;5;124m\"\u001b[39m: allow_redirects,\n\u001b[1;32m    587\u001b[0m }\n\u001b[1;32m    588\u001b[0m send_kwargs\u001b[38;5;241m.\u001b[39mupdate(settings)\n\u001b[0;32m--> 589\u001b[0m resp \u001b[38;5;241m=\u001b[39m \u001b[38;5;28mself\u001b[39m\u001b[38;5;241m.\u001b[39msend(prep, \u001b[38;5;241m*\u001b[39m\u001b[38;5;241m*\u001b[39msend_kwargs)\n\u001b[1;32m    591\u001b[0m \u001b[38;5;28;01mreturn\u001b[39;00m resp\n",
      "File \u001b[0;32m~/anaconda3/lib/python3.12/site-packages/requests/sessions.py:703\u001b[0m, in \u001b[0;36mSession.send\u001b[0;34m(self, request, **kwargs)\u001b[0m\n\u001b[1;32m    700\u001b[0m start \u001b[38;5;241m=\u001b[39m preferred_clock()\n\u001b[1;32m    702\u001b[0m \u001b[38;5;66;03m# Send the request\u001b[39;00m\n\u001b[0;32m--> 703\u001b[0m r \u001b[38;5;241m=\u001b[39m adapter\u001b[38;5;241m.\u001b[39msend(request, \u001b[38;5;241m*\u001b[39m\u001b[38;5;241m*\u001b[39mkwargs)\n\u001b[1;32m    705\u001b[0m \u001b[38;5;66;03m# Total elapsed time of the request (approximately)\u001b[39;00m\n\u001b[1;32m    706\u001b[0m elapsed \u001b[38;5;241m=\u001b[39m preferred_clock() \u001b[38;5;241m-\u001b[39m start\n",
      "File \u001b[0;32m~/anaconda3/lib/python3.12/site-packages/requests/adapters.py:667\u001b[0m, in \u001b[0;36mHTTPAdapter.send\u001b[0;34m(self, request, stream, timeout, verify, cert, proxies)\u001b[0m\n\u001b[1;32m    664\u001b[0m     timeout \u001b[38;5;241m=\u001b[39m TimeoutSauce(connect\u001b[38;5;241m=\u001b[39mtimeout, read\u001b[38;5;241m=\u001b[39mtimeout)\n\u001b[1;32m    666\u001b[0m \u001b[38;5;28;01mtry\u001b[39;00m:\n\u001b[0;32m--> 667\u001b[0m     resp \u001b[38;5;241m=\u001b[39m conn\u001b[38;5;241m.\u001b[39murlopen(\n\u001b[1;32m    668\u001b[0m         method\u001b[38;5;241m=\u001b[39mrequest\u001b[38;5;241m.\u001b[39mmethod,\n\u001b[1;32m    669\u001b[0m         url\u001b[38;5;241m=\u001b[39murl,\n\u001b[1;32m    670\u001b[0m         body\u001b[38;5;241m=\u001b[39mrequest\u001b[38;5;241m.\u001b[39mbody,\n\u001b[1;32m    671\u001b[0m         headers\u001b[38;5;241m=\u001b[39mrequest\u001b[38;5;241m.\u001b[39mheaders,\n\u001b[1;32m    672\u001b[0m         redirect\u001b[38;5;241m=\u001b[39m\u001b[38;5;28;01mFalse\u001b[39;00m,\n\u001b[1;32m    673\u001b[0m         assert_same_host\u001b[38;5;241m=\u001b[39m\u001b[38;5;28;01mFalse\u001b[39;00m,\n\u001b[1;32m    674\u001b[0m         preload_content\u001b[38;5;241m=\u001b[39m\u001b[38;5;28;01mFalse\u001b[39;00m,\n\u001b[1;32m    675\u001b[0m         decode_content\u001b[38;5;241m=\u001b[39m\u001b[38;5;28;01mFalse\u001b[39;00m,\n\u001b[1;32m    676\u001b[0m         retries\u001b[38;5;241m=\u001b[39m\u001b[38;5;28mself\u001b[39m\u001b[38;5;241m.\u001b[39mmax_retries,\n\u001b[1;32m    677\u001b[0m         timeout\u001b[38;5;241m=\u001b[39mtimeout,\n\u001b[1;32m    678\u001b[0m         chunked\u001b[38;5;241m=\u001b[39mchunked,\n\u001b[1;32m    679\u001b[0m     )\n\u001b[1;32m    681\u001b[0m \u001b[38;5;28;01mexcept\u001b[39;00m (ProtocolError, \u001b[38;5;167;01mOSError\u001b[39;00m) \u001b[38;5;28;01mas\u001b[39;00m err:\n\u001b[1;32m    682\u001b[0m     \u001b[38;5;28;01mraise\u001b[39;00m \u001b[38;5;167;01mConnectionError\u001b[39;00m(err, request\u001b[38;5;241m=\u001b[39mrequest)\n",
      "File \u001b[0;32m~/anaconda3/lib/python3.12/site-packages/urllib3/connectionpool.py:787\u001b[0m, in \u001b[0;36mHTTPConnectionPool.urlopen\u001b[0;34m(self, method, url, body, headers, retries, redirect, assert_same_host, timeout, pool_timeout, release_conn, chunked, body_pos, preload_content, decode_content, **response_kw)\u001b[0m\n\u001b[1;32m    784\u001b[0m response_conn \u001b[38;5;241m=\u001b[39m conn \u001b[38;5;28;01mif\u001b[39;00m \u001b[38;5;129;01mnot\u001b[39;00m release_conn \u001b[38;5;28;01melse\u001b[39;00m \u001b[38;5;28;01mNone\u001b[39;00m\n\u001b[1;32m    786\u001b[0m \u001b[38;5;66;03m# Make the request on the HTTPConnection object\u001b[39;00m\n\u001b[0;32m--> 787\u001b[0m response \u001b[38;5;241m=\u001b[39m \u001b[38;5;28mself\u001b[39m\u001b[38;5;241m.\u001b[39m_make_request(\n\u001b[1;32m    788\u001b[0m     conn,\n\u001b[1;32m    789\u001b[0m     method,\n\u001b[1;32m    790\u001b[0m     url,\n\u001b[1;32m    791\u001b[0m     timeout\u001b[38;5;241m=\u001b[39mtimeout_obj,\n\u001b[1;32m    792\u001b[0m     body\u001b[38;5;241m=\u001b[39mbody,\n\u001b[1;32m    793\u001b[0m     headers\u001b[38;5;241m=\u001b[39mheaders,\n\u001b[1;32m    794\u001b[0m     chunked\u001b[38;5;241m=\u001b[39mchunked,\n\u001b[1;32m    795\u001b[0m     retries\u001b[38;5;241m=\u001b[39mretries,\n\u001b[1;32m    796\u001b[0m     response_conn\u001b[38;5;241m=\u001b[39mresponse_conn,\n\u001b[1;32m    797\u001b[0m     preload_content\u001b[38;5;241m=\u001b[39mpreload_content,\n\u001b[1;32m    798\u001b[0m     decode_content\u001b[38;5;241m=\u001b[39mdecode_content,\n\u001b[1;32m    799\u001b[0m     \u001b[38;5;241m*\u001b[39m\u001b[38;5;241m*\u001b[39mresponse_kw,\n\u001b[1;32m    800\u001b[0m )\n\u001b[1;32m    802\u001b[0m \u001b[38;5;66;03m# Everything went great!\u001b[39;00m\n\u001b[1;32m    803\u001b[0m clean_exit \u001b[38;5;241m=\u001b[39m \u001b[38;5;28;01mTrue\u001b[39;00m\n",
      "File \u001b[0;32m~/anaconda3/lib/python3.12/site-packages/urllib3/connectionpool.py:534\u001b[0m, in \u001b[0;36mHTTPConnectionPool._make_request\u001b[0;34m(self, conn, method, url, body, headers, retries, timeout, chunked, response_conn, preload_content, decode_content, enforce_content_length)\u001b[0m\n\u001b[1;32m    532\u001b[0m \u001b[38;5;66;03m# Receive the response from the server\u001b[39;00m\n\u001b[1;32m    533\u001b[0m \u001b[38;5;28;01mtry\u001b[39;00m:\n\u001b[0;32m--> 534\u001b[0m     response \u001b[38;5;241m=\u001b[39m conn\u001b[38;5;241m.\u001b[39mgetresponse()\n\u001b[1;32m    535\u001b[0m \u001b[38;5;28;01mexcept\u001b[39;00m (BaseSSLError, \u001b[38;5;167;01mOSError\u001b[39;00m) \u001b[38;5;28;01mas\u001b[39;00m e:\n\u001b[1;32m    536\u001b[0m     \u001b[38;5;28mself\u001b[39m\u001b[38;5;241m.\u001b[39m_raise_timeout(err\u001b[38;5;241m=\u001b[39me, url\u001b[38;5;241m=\u001b[39murl, timeout_value\u001b[38;5;241m=\u001b[39mread_timeout)\n",
      "File \u001b[0;32m~/anaconda3/lib/python3.12/site-packages/urllib3/connection.py:516\u001b[0m, in \u001b[0;36mHTTPConnection.getresponse\u001b[0;34m(self)\u001b[0m\n\u001b[1;32m    513\u001b[0m _shutdown \u001b[38;5;241m=\u001b[39m \u001b[38;5;28mgetattr\u001b[39m(\u001b[38;5;28mself\u001b[39m\u001b[38;5;241m.\u001b[39msock, \u001b[38;5;124m\"\u001b[39m\u001b[38;5;124mshutdown\u001b[39m\u001b[38;5;124m\"\u001b[39m, \u001b[38;5;28;01mNone\u001b[39;00m)\n\u001b[1;32m    515\u001b[0m \u001b[38;5;66;03m# Get the response from http.client.HTTPConnection\u001b[39;00m\n\u001b[0;32m--> 516\u001b[0m httplib_response \u001b[38;5;241m=\u001b[39m \u001b[38;5;28msuper\u001b[39m()\u001b[38;5;241m.\u001b[39mgetresponse()\n\u001b[1;32m    518\u001b[0m \u001b[38;5;28;01mtry\u001b[39;00m:\n\u001b[1;32m    519\u001b[0m     assert_header_parsing(httplib_response\u001b[38;5;241m.\u001b[39mmsg)\n",
      "File \u001b[0;32m~/anaconda3/lib/python3.12/http/client.py:1423\u001b[0m, in \u001b[0;36mHTTPConnection.getresponse\u001b[0;34m(self)\u001b[0m\n\u001b[1;32m   1421\u001b[0m \u001b[38;5;28;01mtry\u001b[39;00m:\n\u001b[1;32m   1422\u001b[0m     \u001b[38;5;28;01mtry\u001b[39;00m:\n\u001b[0;32m-> 1423\u001b[0m         response\u001b[38;5;241m.\u001b[39mbegin()\n\u001b[1;32m   1424\u001b[0m     \u001b[38;5;28;01mexcept\u001b[39;00m \u001b[38;5;167;01mConnectionError\u001b[39;00m:\n\u001b[1;32m   1425\u001b[0m         \u001b[38;5;28mself\u001b[39m\u001b[38;5;241m.\u001b[39mclose()\n",
      "File \u001b[0;32m~/anaconda3/lib/python3.12/http/client.py:331\u001b[0m, in \u001b[0;36mHTTPResponse.begin\u001b[0;34m(self)\u001b[0m\n\u001b[1;32m    329\u001b[0m \u001b[38;5;66;03m# read until we get a non-100 response\u001b[39;00m\n\u001b[1;32m    330\u001b[0m \u001b[38;5;28;01mwhile\u001b[39;00m \u001b[38;5;28;01mTrue\u001b[39;00m:\n\u001b[0;32m--> 331\u001b[0m     version, status, reason \u001b[38;5;241m=\u001b[39m \u001b[38;5;28mself\u001b[39m\u001b[38;5;241m.\u001b[39m_read_status()\n\u001b[1;32m    332\u001b[0m     \u001b[38;5;28;01mif\u001b[39;00m status \u001b[38;5;241m!=\u001b[39m CONTINUE:\n\u001b[1;32m    333\u001b[0m         \u001b[38;5;28;01mbreak\u001b[39;00m\n",
      "File \u001b[0;32m~/anaconda3/lib/python3.12/http/client.py:292\u001b[0m, in \u001b[0;36mHTTPResponse._read_status\u001b[0;34m(self)\u001b[0m\n\u001b[1;32m    291\u001b[0m \u001b[38;5;28;01mdef\u001b[39;00m \u001b[38;5;21m_read_status\u001b[39m(\u001b[38;5;28mself\u001b[39m):\n\u001b[0;32m--> 292\u001b[0m     line \u001b[38;5;241m=\u001b[39m \u001b[38;5;28mstr\u001b[39m(\u001b[38;5;28mself\u001b[39m\u001b[38;5;241m.\u001b[39mfp\u001b[38;5;241m.\u001b[39mreadline(_MAXLINE \u001b[38;5;241m+\u001b[39m \u001b[38;5;241m1\u001b[39m), \u001b[38;5;124m\"\u001b[39m\u001b[38;5;124miso-8859-1\u001b[39m\u001b[38;5;124m\"\u001b[39m)\n\u001b[1;32m    293\u001b[0m     \u001b[38;5;28;01mif\u001b[39;00m \u001b[38;5;28mlen\u001b[39m(line) \u001b[38;5;241m>\u001b[39m _MAXLINE:\n\u001b[1;32m    294\u001b[0m         \u001b[38;5;28;01mraise\u001b[39;00m LineTooLong(\u001b[38;5;124m\"\u001b[39m\u001b[38;5;124mstatus line\u001b[39m\u001b[38;5;124m\"\u001b[39m)\n",
      "File \u001b[0;32m~/anaconda3/lib/python3.12/socket.py:707\u001b[0m, in \u001b[0;36mSocketIO.readinto\u001b[0;34m(self, b)\u001b[0m\n\u001b[1;32m    705\u001b[0m \u001b[38;5;28;01mwhile\u001b[39;00m \u001b[38;5;28;01mTrue\u001b[39;00m:\n\u001b[1;32m    706\u001b[0m     \u001b[38;5;28;01mtry\u001b[39;00m:\n\u001b[0;32m--> 707\u001b[0m         \u001b[38;5;28;01mreturn\u001b[39;00m \u001b[38;5;28mself\u001b[39m\u001b[38;5;241m.\u001b[39m_sock\u001b[38;5;241m.\u001b[39mrecv_into(b)\n\u001b[1;32m    708\u001b[0m     \u001b[38;5;28;01mexcept\u001b[39;00m timeout:\n\u001b[1;32m    709\u001b[0m         \u001b[38;5;28mself\u001b[39m\u001b[38;5;241m.\u001b[39m_timeout_occurred \u001b[38;5;241m=\u001b[39m \u001b[38;5;28;01mTrue\u001b[39;00m\n",
      "\u001b[0;31mKeyboardInterrupt\u001b[0m: "
     ]
    }
   ],
   "source": [
    "from skopt import gp_minimize\n",
    "\n",
    "result = gp_minimize(\n",
    "\tfunc=objective,\n",
    "\tdimensions=space,\n",
    "\tn_calls=100,\n",
    "\trandom_state=0,\n",
    "\tn_initial_points=5\n",
    ")"
   ]
  },
  {
   "cell_type": "code",
   "execution_count": null,
   "metadata": {},
   "outputs": [],
   "source": [
    "token0,token1,token2,token3,token4,token5,token6,token7,token8,token9,token10,token11,token12,token13,token14,token15,token16,token17,token18,token19, melhor_temp, melhor_top_k, melhor_top_p = result.x\n",
    "melhor_bleu = -result.fun\n",
    "\n",
    "melhor_temp = round(melhor_temp/1000,3)\n",
    "melhor_top_k = round(melhor_top_k/1000,3)\n",
    "melhor_top_p = round(melhor_top_p/1000,3)"
   ]
  },
  {
   "cell_type": "code",
   "execution_count": null,
   "metadata": {},
   "outputs": [],
   "source": [
    "print(result.x)"
   ]
  },
  {
   "cell_type": "code",
   "execution_count": null,
   "metadata": {},
   "outputs": [
    {
     "name": "stdout",
     "output_type": "stream",
     "text": [
      "===== RESULTADO =====\n",
      "Pre input: .ends⽗! regionObservers밝跌幅 scraperاري LTD [np.int64(25932), np.int64(151642), np.int64(0), np.int64(5537), np.int64(80297), np.int64(142176), np.int64(110723), np.int64(88034), np.int64(126698), np.int64(50185)]\n",
      "Pos input: _options plaintiff ANY⽗ dashed climbingmonoᆨ颠覆/detail [np.int64(8743), np.int64(42002), np.int64(4137), np.int64(151642), np.int64(66722), np.int64(29508), np.int64(56401), np.int64(147979), np.int64(109884), np.int64(40823)]\n",
      "Temperatura:  0.044\n",
      "Top_k:        0.98\n",
      "Top_p:        0.496\n",
      "BLEU médio:   -0.9254026029636626\n"
     ]
    },
    {
     "data": {
      "image/png": "[encoded data removed]",
      "text/plain": [
       "<Figure size 640x480 with 1 Axes>"
      ]
     },
     "metadata": {},
     "output_type": "display_data"
    }
   ],
   "source": [
    "import matplotlib.pyplot as plt\n",
    "from skopt.plots import plot_convergence\n",
    "\n",
    "print(\"===== RESULTADO =====\")\n",
    "print(f\"Pre input: {word_tokenize.decode([token0,token1,token2,token3,token4,token5,token6,token7,token8,token9])} {[token0,token1,token2,token3,token4,token5,token6,token7,token8,token9]}\")\n",
    "print(f\"Pos input: {word_tokenize.decode([token10,token11,token12,token13,token14,token15,token16,token17,token18,token19])} {[token10,token11,token12,token13,token14,token15,token16,token17,token18,token19]}\")\n",
    "print(f\"Temperatura:  {melhor_temp}\")\n",
    "print(f\"Top_k:        {melhor_top_k}\")\n",
    "print(f\"Top_p:        {melhor_top_p}\")\n",
    "print(f\"BLEU médio:   {melhor_bleu}\")\n",
    "\n",
    "plot_convergence(result)\n",
    "plt.show()"
   ]
  },
  {
   "cell_type": "code",
   "execution_count": null,
   "metadata": {},
   "outputs": [
    {
     "name": "stderr",
     "output_type": "stream",
     "text": [
      "<>:1: SyntaxWarning: invalid escape sequence '\\m'\n",
      "<>:1: SyntaxWarning: invalid escape sequence '\\m'\n",
      "/tmp/ipykernel_20846/3254812439.py:1: SyntaxWarning: invalid escape sequence '\\m'\n",
      "  test_article = \"\"\"\n"
     ]
    },
    {
     "data": {
      "text/plain": [
       "121.97130810153674"
      ]
     },
     "execution_count": 21,
     "metadata": {},
     "output_type": "execute_result"
    }
   ],
   "source": [
    "test_article = \"\"\"\n",
    "in [ 18 ] tierney and vogel for any functor @xmath0 , where @xmath1 is a category with finite limits and with a projective class @xmath2 , and @xmath3 is an abelian category , have constructed derived functors and investigated relationships of their theory with other theories of derived functors . \n",
    " namely , they have shown that if @xmath1 is abelian and @xmath4 is additive , then their theory coincides with the classical relative theory of eilenberg - moore [ 7 ] , whereas if @xmath1 is abelian and @xmath4 is an arbitrary functor , then it gives a generalization of the theory of dold - puppe [ 6 ] . besides , they showed that their derived functors are naturally isomorphic to the cotriple derived functors of barr - beck [ 3 ] if there is a cotriple in @xmath1 that realizes the given projective class @xmath2 . \n",
    " the key point in the construction of the derived functors by tierney and vogel is that , using @xmath2-projective objects and simplicial kernels , for every @xmath5 from @xmath1 a @xmath2-projective resolution can be constructed , which is an @xmath5-augmented pseudosimplicial object in @xmath1 and which for a given @xmath5 is unique up to a presimplicial homotopy ( according to the comparison theorem for @xmath2-projective resolutions ) . \n",
    " a natural question arises about constructing a cubical analog of the theory of tierney and vogel . \n",
    " exactly this is the purpose of this paper .    before turning to the content of the paper itself , \n",
    " let us say few words about cubical objects and techniques . \n",
    " as it is well known , simplicial methods are developed for long time and are successfully used in algebra and topology . with less success , but still also cubical techniques have been developed , which was initiated on one hand by the systematic use of singular cubes in the singular homology theory of topological spaces ( see , for example , [ 14 ] ) , and , on the other hand , by the papers of kan [ 12 , 13 ] which have related cubical sets to homotopy theory . \n",
    " further research ( see e.  g. [ 1,2,4,5,8 - 11,16,17,19 ] ) has also shown that the cubical approach is interesting and important . \n",
    " cubical objects have a number of advantages compared to the simplicial ones . \n",
    " for example , a ( pre)cubical homotopy is given by a single morphism in each dimension , whereas a ( pre)simplicial homotopy requires `` many '' morphisms . on the other hand , \n",
    " significant disadvantages of the cubical technique with respect to the simplicial one are also apparent . \n",
    " for example , a cubical group , in fact even a cubical abelian group , can fail to satisfy the kan condition [ 16,17 ] . in the context of elimination of these and other disadvantages of the cubical theory , of extreme importance \n",
    " are cubical objects with connections introduced by brown and higgins [ 4 ] . \n",
    " these objects are cubical objects with extra degeneracies , called connections . \n",
    " to stress importance and naturality of cubical objects with connections it suffices to name e.  g. the following three facts . \n",
    " the singular cubical complex of any topological space has naturally defined connections . \n",
    " next , tonks in [ 19 ] has shown that any cubical group with connections satisfies the kan condition . \n",
    " finally , brown and higgins [ 5 ] have recently proved that the category of cubical objects with connections in an abelian category is equivalent to the category of nonnegative chain complexes in the same category .    in this paper \n",
    " we introduce pseudocubical objects with pseudoconnections , obtained from the brown - higgins structure of a cubical object with connections by suitably relaxing their identities . \n",
    " projective precubical resolutions which we are using to construct cubical derived functors possess pseudodegeneracies and pseudoconnections and this fact is essentially used in the construction of derived functors defined by us . \n",
    " now let us list the contents of the paper by sections . \n",
    " in section [ prelim ] we recall the notions of presimplicial , pseudosimplicial and simplicial objects , precubical , cubical objects and cubical objects with connections , their morphisms , and the respective augmented versions of these notions . \n",
    " we also recall the definitions of normalization functors in the simplicial setting by moore , and in the cubical setting by wiatek [ 16 ] . \n",
    " furthermore we recall the kan cubical sets and their homotopy groups .    for any presimplicial object @xmath6 in an abelian category @xmath1 the normalized chain complex of @xmath6 , denoted by @xmath7 in this paper , is a chain subcomplex of the unnormalized chain complex of @xmath6 , denoted by @xmath8 . \n",
    " the well known moore theorem says that if @xmath6 is a simplicial object in @xmath1 , then this inclusion is a chain homotopy equivalence ( in fact this is valid for any pseudosimplicial object in @xmath1 ) . on the other hand , for any precubical object @xmath9 in an abelian category @xmath1 , one has the canonical inclusion @xmath10 of chain complexes @xmath11 and @xmath12 in @xmath1 which are cubical analogs of @xmath7 and @xmath8 ( see [ 16 , 17 ] ) respectively , and which functorially depend on @xmath9 . in section 2 \n",
    " we introduce pseudocubical objects with pseudoconnections and prove that @xmath13 is a chain homotopy equivalence for any pseudocubical object @xmath9 with pseudoconnections ( in particular for any cubical object @xmath9 with connections ) . \n",
    " thus we obtain a cubical analog of the moore theorem . \n",
    " then we establish some results which are not needed later on ; however they seem interesting by themselves . \n",
    " let us mention some of them . \n",
    " we indicate an alternative proof of the aforementioned brown - higgins equivalence . furthermore , we point out that this equivalence is realized by the above functor @xmath14 . \n",
    " next , we show that if @xmath15 is a kan cubical group , then @xmath16 , the @xmath17-th homotopy group of @xmath15 , coincides with @xmath18 , the @xmath17-th homology group of @xmath19 ( note that @xmath19 and @xmath18 are defined for any cubical group @xmath15 as well ) . using this and the cubical analog of the moore theorem together with the aforementioned result of tonks \n",
    " , we get that @xmath16 is naturally isomorphic to @xmath20 for any cubical abelian group @xmath15 with connections . \n",
    " let @xmath1 be a category with finite limits and a projective class @xmath2 , @xmath3 an abelian category , and @xmath0 an arbitrary ( covariant ) finctor . in section 3 \n",
    " we construct left cubical derived functors @xmath21 , @xmath22 , @xmath23 , as follows . \n",
    " first we show how to build for any object @xmath5 from @xmath1 an @xmath5-augmented @xmath2-projective precubical resolution , denoted @xmath24 , by means of cubical kernels and @xmath2-projective objects \n",
    " . then we prove the comparison theorem which in particular says that @xmath24 is unique up to precubical homotopy for a given @xmath5 . \n",
    " furthermore , it is shown that any @xmath2-projective precubical resolution @xmath24 is in fact an augmented pseudocubical object with pseudoconnections . \n",
    " we define @xmath25 , @xmath23 , to be the @xmath17-th homology of @xmath26 . \n",
    " besides the comparison theorem , the fact that @xmath27 has pseudodegeneracies is crucial in proving that @xmath25 are well - defined and functorially depend on @xmath5 . \n",
    " this contrasts with the construction of the derived functors by tierney and vogel which does not use existence of pseudodegeneracies in @xmath2-projective presimplicial resolutions ( pseudodegeneracies of @xmath2-projective presimplicial resolutions are essentially used when the theory of tierney and vogel is compared with other theories of derived functors ) . \n",
    " further , we define @xmath28 , @xmath23 , to be the @xmath17-th homology group of @xmath29 . \n",
    " now this construction essentially uses the fact that @xmath27 is a pseudocubical object with pseudoconnections , i.  e. , this is crucial for proving that @xmath30 are well - defined and functorial in @xmath5 . \n",
    " the cubical analog of the moore theorem proved in the previous section shows that in fact there are isomorphisms @xmath31 , @xmath23 , which are natural in @xmath5 and @xmath4 . \n",
    " suppose @xmath1 is an abelian category with a projective class @xmath2 , @xmath3 an abelian category , and @xmath0 an additive ( covariant ) functor . \n",
    " then one constructs , with respect to @xmath2 , the left derived functors @xmath32 ( @xmath23 ) of @xmath4 in the sense of eilenberg - moore [ 7 ] . on the other hand , \n",
    " since any abelian category admits finite limits , we can build @xmath2-projective precubical resolutions , and therefore can construct the cubical left derived functors @xmath33 , @xmath23 . in section 4 , using once again the cubical analog of the moore theorem , we prove that if @xmath2 is closed [ 7 ] or , more generally , is closed with respect to retracts , then there are isomorphisms @xmath34 , @xmath35 , @xmath23 , which are natural in @xmath5 and @xmath4 . \n",
    " we begin with the following known definitions . \n",
    " a presimplicial object @xmath6 in a category @xmath1 is a family of objects @xmath36 together with face @xmath1-morphisms @xmath37    a morphism @xmath38 between presimplicial objects in a category @xmath1 is a family of @xmath1-morphisms @xmath39 which commute with the face operators . \n",
    " if @xmath9 and @xmath40 are ( pseudo)simplicial objects , then the @xmath1-morphisms @xmath41 must commute with the face and ( pseudo)degeneracy operators .    a precubical object @xmath9 in a category @xmath1 is a family of objects @xmath42 together with @xmath1-morphisms @xmath43 satisfying @xmath44 the @xmath1-morphisms @xmath45 and @xmath46 are called face operators .    a cubical object @xmath9 in a category @xmath1 is a family of objects @xmath47 together with @xmath1-morphisms @xmath48 as above and @xmath49 which satisfy @xmath50 where @xmath51 . \n",
    " the @xmath1-morphisms @xmath52 are called degeneracy operators . \n",
    " [ [ 4 ] ] a cubical object @xmath9 in a category @xmath1 is said to have connections if there are given @xmath1-morphisms @xmath53 satisfying @xmath54    the singular cubical complex @xmath55 of a topological space @xmath9 is a cubical object with connections in the category of sets . \n",
    " the connections @xmath56 are defined by @xmath57^n\\to x\\right)(t_1,t_2, ... ,t_{n+1})=f(t_1, ... ,t_{i-1},\\max(t_i , t_{i+1}),t_{i+2}, ... ,t_{n+1}).\\ ] ]    a morphism @xmath38 between precubical objects in a category @xmath1 is a family of @xmath1-morphisms @xmath39 which commute with the face operators . if @xmath9 and @xmath40 are cubical objects , then the @xmath1-morphisms @xmath41 must commute with the face and degeneracy operators ; and if @xmath9 and @xmath40 are cubical objects with connections , then the @xmath1-morphisms @xmath41 must commute with the faces , degeneracies and connections .    for any category @xmath1 , \n",
    " let us denote by @xmath58 the category of presimplicial objects in @xmath1 , by @xmath59 the category of precubical objects in @xmath1 , by @xmath60 the category of cubical objects in @xmath61 , and by @xmath62 the category of cubical objects with connections in @xmath1 . \n",
    " let @xmath1 be an abelian category , and @xmath63 the category of non - negatively graded chain complexes in @xmath1 . \n",
    " we essentially use the normalization functor @xmath64 of wiatek [ 16 , 17 ] which is constructed as follows . \n",
    " if @xmath65 and @xmath66 is a precubical morphism , then define @xmath67    of less importance for us is the functor @xmath68 which is defined for arbitrary abelian category @xmath1 by @xmath69 ( see [ 16 , 17 ] ) . \n",
    " let @xmath1 be again an abelian category . \n",
    " recall the definition of the moore normalization functor @xmath70 assume @xmath6 , @xmath71 and @xmath72 is a presimplicial morphism . \n",
    " then @xmath73 one also has the functor @xmath74 assigning to @xmath75 its unnormalized chain complex . \n",
    " more precisely , @xmath76    an augmented precubical ( resp . \n",
    " presimplicial ) object in a category @xmath1 is a precubical ( resp . \n",
    " presimplicial ) object @xmath9 in @xmath1 together with an object @xmath35 and an @xmath1-morphism @xmath77 satisfying @xmath78 ( resp . \n",
    " @xmath79 ) . \n",
    " such an object is denoted by @xmath80 . \n",
    " a morphism between @xmath80 and @xmath81 is a morphism @xmath82 between @xmath9 and @xmath40 together with an @xmath1-morphism @xmath83 satisfying @xmath84 . \n",
    " denote the category of augmented precubical ( resp . \n",
    " presimplicial ) objects in @xmath1 by @xmath85 ( resp . \n",
    " @xmath86 ) , by @xmath87 the category of augmented pseudosimplicial objects in @xmath1 , and by @xmath88 the category of augmented simplicial objects in @xmath1 . \n",
    " assume @xmath1 is abelian . \n",
    " then a nonnegative chain complex in @xmath1 augmented over @xmath35 is a nonnegative chain complex @xmath9 in @xmath1 together with an @xmath1-morphism @xmath77 satisfying @xmath89 . \n",
    " denote the category of augmented nonnegative chain complexes in @xmath1 by @xmath90 . \n",
    " for any abelian category @xmath1 , the functor @xmath91 , respectively the functors @xmath92 , @xmath93 extend in an obvious way to @xmath94 respectively @xmath95    let @xmath1 be an abelian category . using the shifting functor @xmath96 ( assigning to @xmath97 the nonnegative chain complex @xmath98 defined by @xmath99 , @xmath100 , @xmath101 , @xmath102 ) , we get functors @xmath103 and @xmath104 the restrictions of which to the category of augmented pseudosimplicial objects are used in the next section . \n",
    " next recall [ 12 ] the definition of the homotopy groups of a kan cubical set . \n",
    " a cubical set @xmath9 is said to be kan if for any @xmath105 , any @xmath106 and any collection of @xmath107 elements @xmath108 , @xmath109 , @xmath110 , @xmath111 , satisfying @xmath112 there exists @xmath113 such that @xmath114    let @xmath9 be a cubical set , @xmath115 and @xmath108 , @xmath102 , @xmath109 , @xmath110 . \n",
    " we write @xmath116 iff @xmath117 , @xmath109 , @xmath110 . \n",
    " suppose now that @xmath118 is a kan cubical set with a basepoint @xmath119 . \n",
    " let @xmath120 and define an equivalence relation @xmath121 on @xmath122 @xmath123 by @xmath124 or equivalently , by @xmath125 [ 12 , theorem 6 ] . \n",
    " denote @xmath126 , @xmath127 . \n",
    " let @xmath128,[y]\\in\\pi_n(x,\\psi)$ ] @xmath129=cl_\\sim(x))$ ] , @xmath102 . \n",
    " since @xmath9 is kan , there is @xmath130 with @xmath131 clearly , @xmath132 . \n",
    " define @xmath128\\bl[y]=[\\pa_1 ^ 1z]$ ] . \n",
    " this definition depends only on the equivalence classes of @xmath133 and @xmath134 and , with this multiplication , @xmath135 , @xmath102 , is a group , called the @xmath17-th homotopy group of @xmath118 . \n",
    " finally let us note that in the text we will freely make use of the freyd - mitchell embedding theorem ( see e.  g. [ 20 , p.25 ] ) when applying various results in the literature about modules to objects in general abelian categories . \n",
    " let @xmath15 be a cubical group and define @xmath136 then :    1 . \n",
    " @xmath137 , @xmath127 . \n",
    " 2 .   @xmath138 , @xmath139 . \n",
    " 3 .   @xmath140 is a normal subgroup of @xmath141 and of @xmath142 , @xmath127 . \n",
    " let @xmath143 . by definition @xmath144 consequently , @xmath145 . \n",
    " hence ( a ) is proved . \n",
    " . then @xmath146 . using this we get @xmath147 . \n",
    " hence ( b ) is proved . \n",
    " suppose @xmath148 and @xmath149 . \n",
    " obviously one has @xmath150 and @xmath151 . \n",
    " this proves ( c ) . \n",
    " thus , for any cubical group @xmath15 , @xmath152 is a chain complex of ( not necessarily abelian ) groups . \n",
    " we call @xmath19 the moore chain complex of @xmath15 . \n",
    " it is obvious that @xmath19 and its homology groups @xmath153 functorially depend on @xmath15 . \n",
    " obviously , in the construction of @xmath19 one may replace @xmath15 by a precubical object @xmath9 in an abelian category ( in [ 16 ] @xmath19 is introduced for cubical objects in an abelian category ) . \n",
    " in this case we redefine the differential @xmath154 on @xmath11 by @xmath155 . \n",
    " then @xmath11 is a chain subcomplex of @xmath12 and one has a natural monomorphism @xmath156 . \n",
    " + 4 mm    now let us introduce pseudocubical objects and pseudocubical objects with pseudoconnections . \n",
    " + 4 mm    a pseudocubical object @xmath9 in a category @xmath1 is a family of objects @xmath42 together with face @xmath1-morphisms @xmath157 for @xmath51 . \n",
    " we say that a pseudocubical object @xmath9 in a category @xmath1 has pseudoconnections if there are given @xmath1-morphisms @xmath53 which satisfy @xmath158    morphisms of pseudocubical objects and pseudocubical objects with pseudoconnections are defined in an obvious way , just as for cubical objects and cubical objects with connections .    for a category @xmath1 , \n",
    " let us denote by @xmath159 the category of pseudocubical objects with pseudoconnections in @xmath1 . \n",
    " let @xmath1 be an abelian category . \n",
    " define the functor @xmath160 as follows : @xmath161 on the other hand , we have the functors @xmath162 and @xmath163 from @xmath87 to @xmath164 . \n",
    " one can easily see that @xmath165    let @xmath15 be a simplicial object in an abelian category @xmath1 . \n",
    " then the normalized chain complex @xmath166 of @xmath15 is a chain subcomplex of the unnormalized chain complex @xmath167 of @xmath15 . \n",
    " the moore theorem says that this inclusion is a chain homotopy equivalence . \n",
    " the proof of this theorem [ 15 , p.94 ] does not use the simplicial identity : @xmath168 , @xmath169 . \n",
    " therefore one may assert that for any augmented pseudosimplicial object @xmath6 in an abelian category @xmath1 , the natural monomorphism @xmath170 is a chain homotopy equivalence . \n",
    " replacing now @xmath6 by @xmath171 , where @xmath9 is a pseudocubical object with pseudoconnections in @xmath1 , and using @xmath172 and @xmath173 , we get a cubical analog of the moore theorem :    [ normtheo ] let @xmath9 be a pseudocubical object with pseudoconnections in an abelian category . then the natural monomorphism @xmath156 is a chain homotopy equivalence and , therefore , @xmath174 is an isomorphism for all @xmath23 . \n",
    " in fact @xmath156 has a natural homotopy inverse @xmath175 with @xmath176 ( see the proof of theorem 22.1 of [ 15 ] ) . \n",
    " note that the natural monomorphism @xmath177 need not be a chain homotopy equivalence for a cubical object @xmath9 with connections in an abelian category . \n",
    " as is known the prime examples of pseudosimplicial objects are the projective resolutions used by tierney and vogel to define their derived functors . in the next section we construct cubical analogs of tierney - vogel s projective resolutions ( in order to define our cubical derived functors ) and show that they have pseudodegeneracies and pseudoconnections . \n",
    " the material in the rest of this section is not needed in what follows ; however we believe it is interesting for its own sake . \n",
    " suppose that @xmath9 is a cubical object with connections in an abelian category @xmath1 . \n",
    " then @xmath171 is an augmented simplicial object . \n",
    " denote by @xmath178 the chain subcomplex of @xmath12 generated by the images of the degeneracies of @xmath171 . \n",
    " since the degeneracy morphisms of @xmath171 are defined by @xmath179 , @xmath102 , @xmath180 , one has @xmath181 besides , @xmath182 and @xmath183 . \n",
    " let @xmath9 be a cubical object with connections in an abelian category @xmath1 . \n",
    " then :    1 . \n",
    " @xmath184 and hence @xmath11 is isomorphic to @xmath185 . \n",
    " the canonical projection @xmath186 is a chain homotopy equivalence .    as @xmath171 is an augmented simplicial object , one has @xmath187 ( where @xmath188 is the chain subcomplex of @xmath189 generated by the degenerate elements of @xmath171 ) , and the canonical projection @xmath190 is a chain homotopy equivalence ( see corollary 22.2 and 22.3 of [ 15 ] ) . but \n",
    " @xmath191 , @xmath192 and @xmath193 . hence ( \n",
    " a ) and ( b ) hold . \n",
    " suppose @xmath9 is a cubical set with connections . \n",
    " an n - cube @xmath194 is said to be folded if there exists @xmath195 such that @xmath196 for some @xmath197 ( see [ 1 ] ) . \n",
    " when we define the singular cubical homology @xmath198 of a topological space @xmath4 , it is necessary to factor out the degenerate singular cubes . \n",
    " it easily follows from theorem 2.5 that the folded singular cubes can be ignored in addition when we calculate @xmath198 . \n",
    " let @xmath1 be an abelian category . \n",
    " restricting @xmath14 and @xmath199 to the category @xmath62 , and @xmath200 to the category @xmath88 , we get the following commutative diagram @xmath201 ^ -{m}\\ar[rd]_-{\\ol{n}}&&ch_{\\ge 0}(\\sa)\\\\ & as(\\sa)\\ar[ru]_-{\\wh{i}}}\\ ] ] in which , by the dold - kan theorem , @xmath200 is an equivalence of categories . \n",
    " moreover , the functor @xmath202 is also an equivalence . \n",
    " the proof is very similar to the proof of the dold - kan theorem [ 20 , p.270 ] . \n",
    " thus we have got an alternative proof of the result by brown and higgins [ 5 ] about the equivalence of the categories @xmath62 and @xmath164 . \n",
    " furthermore , we have pointed out the functor @xmath203 which realizes this equivalence .    in \n",
    " what follows , for pointed kan cubical monoids @xmath15 , we will always take the unit 1 of @xmath204 as basepoint , and denote @xmath205 by @xmath16 . \n",
    " [ moorekan ] \n",
    " let @xmath15 be a kan cubical monoid and suppose that @xmath105 . then :    \\(a ) for any @xmath206 ,  @xmath128\\bullet[y]=[xy]$ ] . \n",
    " \\(b ) @xmath16 is abelian .    to prove this proposition , we need the following well known    [ twoopers ] let @xmath207 and @xmath208 be binary operations on a set @xmath209 . \n",
    " assume that they have units and satisfy @xmath210 for all @xmath211 . \n",
    " then these operations coincide and @xmath212 is an abelian monoid . \n",
    " the proofs of propositions 17.2 and 17.3 of [ 15 ] ) . using the monoid structure on @xmath15 \n",
    " , a binary operation may be defined on @xmath16 by @xmath128*[y]=[xy]$ ] . \n",
    " this is well - defined . indeed , \n",
    " if @xmath206 then @xmath213 , and if @xmath214 and @xmath215 , @xmath216 , i.  e. , @xmath217 then @xmath218 i.e. , @xmath219 . \n",
    " next , assume that @xmath128,[y],[u],[v]\\in\\pi_n(g)$ ] . by the kan condition , there are @xmath220 with @xmath221 whence @xmath222 then , by the definitions of @xmath223 and @xmath208 , we can write @xmath224\\bl[y]\\right)*\\left([u]\\bl[v]\\right)=[\\pa_1 ^ 1w_1]*[\\pa_1 ^ 1w_2][\\pa_1 ^ 1w_1\\cdot\\pa_1 ^ 1w_2]=\\\\ = [ xu]\\bl[yv]=\\left([x]*[u]\\right)\\bl\\left([y]*[v]\\right).\\end{gathered}\\ ] ] besides , @xmath128\\bl[1]=[x]=[1]\\bl[x]$ ] and @xmath128*[1]=[x]=[1]*[x]$ ] . \n",
    " consequently , we conclude , by lemma [ twoopers ] , that @xmath207 and @xmath208 coincide and @xmath16 is abelian . \n",
    " [ kanpimoore ] for any _ kan _ cubical group @xmath15 , @xmath225    let us use the following notations : @xmath226 it is evident that @xmath227 for all @xmath127 . \n",
    " therefore , in view of proposition [ moorekan ] , it suffices to show that @xmath228 if and only if @xmath229 , @xmath230 . \n",
    " suppose that @xmath206 and @xmath228 . \n",
    " then @xmath231 this gives @xmath128*[y^{-1}]=[xy^{-1}]=[1]$ ] , whence @xmath128=[y]$ ] , i.  e. , @xmath228 . \n",
    " any cubical group with connections is kan [ 19 ] . \n",
    " combining this with theorem [ normtheo ] and proposition [ kanpimoore ] , we get    for any cubical abelian group @xmath15 with connections , @xmath16 is naturally isomorphic to @xmath20 for all @xmath23 . \n",
    " let @xmath1 be a category and @xmath232 a sequence of @xmath1-morphisms , @xmath102 . \n",
    " a cubical kernel of the sequence @xmath233 is a sequence @xmath234 of @xmath1-morphisms such that    * @xmath235 for @xmath236 , @xmath237 ; *   * if @xmath238 is any other sequence satisfying identities @xmath239 for @xmath236 , @xmath237 , then there exists a unique @xmath1-morphism @xmath240 with @xmath241 , @xmath242 , @xmath243 . \n",
    " it immediately follows from the definition that cubical kernels are unique up to isomorphism if they exist . \n",
    " suppose @xmath1 has finite limits and let @xmath244 ^ -{f_1 ^ 0}\\ar@<-0.5ex>[r]_-{f_1 ^ 1}&b}$ ] be a pair of @xmath1-morphisms . \n",
    " consider the diagram @xmath245_-{f_1 ^ 1}\\ar[r]^-{f_1 ^ 0}&b\\\\ a\\ar[u]^-{f_1 ^ \n",
    " 0}\\ar[d]_-{f_1 ^ 1}&&a\\ar[u]_-{f_1 ^ 0}\\ar[d]^-{f_1 ^ 1}\\\\ b&a\\ar[l]_-{f_1 ^ 1}\\ar[r]^-{f_1 ^ 0}&b.}\\ ] ] by assumption , we have the limit diagram @xmath245_-{f_1 ^ 1}\\ar[r]^-{f_1 ^ 0}&b\\\\ a\\ar[u]^-{f_1 ^ \n",
    " 0}\\ar[d]_-{f_1 ^ 1}&k\\ar[l]_-{k_2 ^ 1}\\ar[u]^-{k_1 ^ 0 } \\ar[r]^-{k_2 ^ 0}\\ar[d]_-{k_1 ^ 1}&a\\ar[u]_-{f_1 ^ 0}\\ar[d]^-{f_1 ^ 1}\\\\ b&a\\ar[l]_-{f_1 ^ 1}\\ar[r]^-{f_1 ^ 0}&b,}\\ ] ] i.e. the sequence @xmath246 is a cubical kernel of the pair @xmath247 ^ -{f_1 ^ \n",
    " 0}\\ar@<-0.5ex>[r]_-{f_1 ^ 1}&b}.\\ ] ] clearly , in fact , one has    if @xmath1 admits finite limits , then cubical kernels exist in @xmath1 for any sequence @xmath248 and any @xmath102 . \n",
    " let @xmath2 be a class of objects of @xmath1 . \n",
    " recall [ 7 ] that an @xmath1-morphism @xmath83 is said to be @xmath2-epimorphic iff @xmath249 is surjective for all @xmath250 . also recall that @xmath2 is called a projective class if for each @xmath35 there exists a @xmath2-epimorphism @xmath251 with @xmath250 . \n",
    " let @xmath2 be a projective class in @xmath1 , @xmath252 ^ -\\pa&a}$ ] an augmented precubical object over @xmath35 , and suppose that @xmath1 has finite limits . by proposition 3.2 \n",
    " , we have a factorization @xmath253 ^ -{\\pa_1 ^ 0}\\ar@<-.9ex>[rr]_-{\\pa_{n+1}^1 } \\ar[dr]_-{e_{n+1 } } & { { } ^{{}^{\\vdots}}}&\\ x_n\\ \\ar@<1.5ex>[rr]^-{\\pa_1 ^ 0}\\ar@<-.9ex>[rr]_-{\\pa_n^1}\\ar[dr]_-{e_n } & { { } ^{{}^{\\vdots}}}&**[r]x_{n-1}\\ \\cdots&\\ \\ \n",
    " x_1\\ar@<.5ex>[rr]^-{\\pa_1 ^ 0}\\ar@<-.5ex>[rr]_-{\\pa_1 ^ 1}\\ar[dr]_-{e_1 } & & x_0\\ar[r]^-{\\pa}&a \\\\ & k_{n+1}\\ar@<1.2ex>[ur]^-{k_1 ^ 0}\\ar@{}[ur]|-\\ddots\\ar@<-1.5ex>[ur]_-{k_{n+1}^1 } & & k_n\\ar@<1.2ex>[ur]^-{k_1 ^ 0}\\ar@{}[ur]|-\\ddots\\ar@<-1.5ex>[ur]_-{k_n^1 } & & & k_1\\ar@<.5ex>[ur]^-{k_1 ^ 0}\\ar@<-.5ex>[ur]_-{k_1 ^ 1}}\\ ] ] where @xmath254 ^ -{k_1 ^ 0}\\ar@<-0.5ex>[r]_-{k_1 ^ 1}&x_0}$ ] is a kernel pair of @xmath255 ^ -\\pa&a}$ ] , and-1em @xmath256 a cubical kernel of @xmath257 for @xmath258 . \n",
    " we say that    * @xmath252 ^ -\\pa&a}$ ] is @xmath2-projective iff each @xmath259 ; * @xmath252 ^ -\\pa&a}$ ] is @xmath2-exact iff @xmath154 and @xmath260 @xmath261 are @xmath2-epimorphic ; * @xmath252 ^ -\\pa&a}$ ] is @xmath2-projective resolution of @xmath5 iff it is @xmath2-projective and @xmath2-exact . \n",
    " obviously , if @xmath1 is a category with finite limits and a projective class @xmath2 , then each @xmath35 has a @xmath2-projective resolution . \n",
    " moreover , the following comparison theorem shows that such a resolution is unique up to precubical homotopy equivalence . \n",
    " [ precm ] let @xmath252 ^ -\\pa&a}$ ] be @xmath2-projective and @xmath262 ^ -{\\pa'}&a'}$ ] be @xmath2-exact . \n",
    " then any @xmath1-morphism @xmath83 can be extended to a precubical morphism @xmath263 ^ -\\pa\\ar[dd]_-{\\ol{f}}&&a\\ar[dd]^-f\\\\ & & & & \\\\ \n",
    " x'\\ar[rr]^-{\\pa ' } & & a'}\\ ] ] over @xmath264 @xmath265i . \n",
    " e. , @xmath266 and @xmath264 form a morphism of augmented precubical objects@xmath267 . \n",
    " furthermore , any two such extensions are precubically homotopic . \n",
    " that is , if @xmath268 are two extensions of @xmath264 , then there exist @xmath1-morphisms @xmath269 , @xmath127 , such that @xmath270    we construct the extension @xmath271 and show its uniqness up to precubical homotopy by induction on @xmath17 . \n",
    " since @xmath272 is @xmath2-projective and @xmath273 is @xmath2-epimorphic , there is @xmath274 with @xmath275 . \n",
    " next , one has @xmath276 . \n",
    " therefore @xmath277 and @xmath278 for a uniquely defined @xmath279 . \n",
    " as @xmath280 is @xmath2-projective and @xmath281 is @xmath2-epimorphic , there exists @xmath282 with @xmath283 , and we have @xmath284 and @xmath285 . \n",
    " thus @xmath286 and @xmath287 are constructed . \n",
    " inductively , suppose given @xmath1-morphisms @xmath288 for @xmath289 so that @xmath290 , @xmath291 , @xmath243 \n",
    " . then @xmath292 , @xmath236 , @xmath237 . \n",
    " hence there is a unique @xmath293 such that @xmath294 , @xmath242 , @xmath243 . \n",
    " since @xmath295 is @xmath2-projective and @xmath296 is @xmath2-epimorphic , there exists @xmath297 with @xmath298 . \n",
    " then we have @xmath299 , @xmath300 , @xmath243 . \n",
    " this completes the inductive step and proves the existence of @xmath266 . \n",
    " now suppose @xmath301 is another extension of @xmath83 . \n",
    " we want to construct @xmath302 with @xmath303 , @xmath304 , @xmath127 , and @xmath305 , @xmath306 , @xmath110 . for @xmath307 consider diagram @xmath308{\\ x_0}\\ar@{-->}[ddll]_-{h_0}\\ar@{-->}[dddl]_-{q_0 } \\ar[rr]^-\\pa\\ar@<1.2ex>[dd]^-{g_0}\\ar@<.2ex>[dd]_-{f_0}&&a\\ar[dd]^-f\\\\ \\\\ \n",
    " x'_1\\ar[dr]_-{e_1}&&**[r]{\\ x'_0}\\ar[rr]^-{\\pa'}&&**[r]a'\\;\\;.\\\\ & * * [ r]k'_1\\ar@<-1ex>[ur]^-{k_1 ^ 0}\\ar@<-2ex>[ur]_-{k_1 ^ 1 } & & } \\ ] ] as @xmath309 , there exists @xmath310 such that @xmath311 and @xmath312 . \n",
    " next , since @xmath272 is @xmath2-projective and @xmath313 is @xmath2-epimorphic , there is @xmath314 with @xmath315 . \n",
    " this and the two previous equalities give @xmath316 and @xmath317 . thus @xmath318 is constructed . \n",
    " inductively , suppose given @xmath319 with the required properties . \n",
    " @xmath320x_n\\ar@{-->}[ddll]_-{h_n}\\ar@{-->}[dddl]_-{q_n } \\ar@<1.5ex>[rr]^-{\\pa_1 ^ 0}\\ar@<-1ex>[rr]_-{\\pa_n^1 } \\ar@<1.4ex>[dd]^-{g_n}\\ar@<-0.2ex>[dd]_-{f_n } & { { } ^{{}^{\\vdots}}}&**[r]x_{n-1 } \\ar@<-.2ex>[dd]_-{f_{n-1}}\\ar@<1.4ex>[dd]^-{g_{n-1 } } \\ar@<0.7ex>[ddll]_{h_{n-1}}\\\\ \\\\ * * [ r]x'_{n+1}\\ar[dr]_-{e_{n+1}}&&**[r]x'_n \\ar@<1.5ex>[rr]^-{\\pa_1 ^ 0}\\ar@<-1ex>[rr]_-{\\pa_n^1 } & { { } ^{{}^{\\vdots}}}&**[r]x'_{n-1}\\ .\\\\ & * * [ r]k'_{n+1 } \\ar@<1.1ex>[ur]^-{k_1 ^ 0}\\ar@{}[ur]|-\\ddots\\ar@<-1.6ex>[ur]_-{k_{n+1}^1 } } \\ ] ] define @xmath321 , @xmath242 , @xmath110 , as follows : @xmath322 by the induction assumption , @xmath323 that is @xmath324 for @xmath236 , @xmath325 . \n",
    " therefore @xmath326 , @xmath242 , @xmath110 , for a uniquely defined @xmath327 . since @xmath328 is @xmath2-projective and @xmath329 is @xmath2-epimorphic , \n",
    " there is @xmath269 with @xmath330 . \n",
    " now we have @xmath331 this finishes the inductive step and completes the proof of the theorem . \n",
    " the following theorem is crucial for constructing our cubical derived functors . \n",
    " [ resdeg ] suppose that @xmath332 ^ -{\\pa_1 ^ 0}\\ar@<-.9ex>[rr]_-{\\pa_{n+1}^1 } \\ar[dr]_-{e_{n+1 } } & { { } ^{{}^{\\vdots}}}&\\ p_n\\ \\ar@<1.5ex>[rr]^-{\\pa_1 ^ 0}\\ar@<-.9ex>[rr]_-{\\pa_n^1}\\ar[dr]_-{e_n } & { { } ^{{}^{\\vdots}}}&**[r]p_{n-1}\\ \\cdots&\\ \\ \n",
    " p_1\\ar@<.5ex>[rr]^-{\\pa_1 ^ 0}\\ar@<-.5ex>[rr]_-{\\pa_1 ^ 1}\\ar[dr]_-{e_1 } & & p_0\\ar[r]^-{\\pa}&a \\\\ & k_{n+1}\\ar@<1.2ex>[ur]^-{k_1 ^ 0}\\ar@{}[ur]|-\\ddots\\ar@<-1.5ex>[ur]_-{k_{n+1}^1 } & & k_n\\ar@<1.2ex>[ur]^-{k_1 ^ 0}\\ar@{}[ur]|-\\ddots\\ar@<-1.5ex>[ur]_-{k_n^1 } & & & k_1\\ar@<.5ex>[ur]^-{k_1 ^ 0}\\ar@<-.5ex>[ur]_-{k_1 ^ 1}}\\ ] ] is a @xmath2-projective resolution of @xmath35 . \n",
    " then :    \\(a )  @xmath27 has pseudodegeneracy operators , i.e. , there exist @xmath333 ,  @xmath127 ,  @xmath242 , satisfying @xmath334    as an immediate consequence we have    [ psec ] any @xmath2-projective resolution @xmath335 ^ -{\\pa}&a}$ ] is an augmented pseudocubical object with pseudoconnections . \n",
    " \\(a ) as @xmath336 ^ -{k_1 ^ 0}\\ar@<-0.5ex>[r]_-{k_1 \n",
    " ^ 1}&p_0}$ ] is a kernel pair of @xmath337 , there is @xmath338 such that @xmath339 and @xmath340 . on the other hand , \n",
    " since @xmath341 is @xmath2-projective and @xmath313 is @xmath2-epimorphic , @xmath342 for some @xmath343 and we have @xmath344 and @xmath345 . \n",
    " thus @xmath343 is constructed . \n",
    " inductively , suppose given @xmath343 , @xmath346 with the required properties . \n",
    " fix @xmath347 , @xmath348 , and define @xmath349 , @xmath242 , @xmath110 , by @xmath350 using the induction assumption , one checks that @xmath351 for @xmath352 , @xmath353 \n",
    " . then there exists @xmath354 such that @xmath355 , @xmath242 , @xmath110 . \n",
    " since @xmath356 is @xmath2-projective and @xmath329 is @xmath2-epimorphic , there is @xmath357 with @xmath358 . \n",
    " according to this , for @xmath359 and @xmath110 , one has @xmath360 thus we have constructed @xmath361 with the desired properties . \n",
    " \\(b ) define @xmath362 by @xmath363 , @xmath364 , @xmath365 and @xmath366 . \n",
    " one verifies that @xmath367 , @xmath110 . \n",
    " hence there exists @xmath368 such that @xmath369 , @xmath370 , @xmath110 . \n",
    " as @xmath371 is @xmath2-projective and @xmath372 is @xmath2-epimorphic , @xmath373 for some @xmath374 , and we have @xmath375 next , assume that @xmath374 , @xmath376 with the required properties are constructed , and for any fixed @xmath347 , @xmath109 , define @xmath377 , @xmath242 , @xmath110 , as follows : @xmath378 by the induction assumption , @xmath379 , @xmath352 , @xmath353 . \n",
    " consequently , there is @xmath380 such that , @xmath381 , @xmath242 , @xmath110 .    since @xmath356 is @xmath2-projective and @xmath329 is @xmath2-epimorphic , there exists @xmath382 with @xmath383 \n",
    " then , for @xmath359 and @xmath110 , one has @xmath384 thus we have constructed @xmath385 satisfying the desired properties . \n",
    " let @xmath1 be an abelian category . \n",
    " it is shown in [ 16 ] that the functor @xmath386 sends cubically homotopic morphisms to chain homotopic morphisms . \n",
    " the proof , which we repeat here because of the completeness , shows that in fact one has    [ prechn ] let @xmath9 be a pseudocubical object and @xmath387 a precubical object in an abelian category @xmath1 , and @xmath388 precubical morphisms . if @xmath264 and @xmath389 are precubically homotopic @xmath265see theorem @xmath390 , then @xmath391 and @xmath392 are chain homotopic . \n",
    " let @xmath393 be a precubical homotopy from @xmath264 to @xmath389 , and let @xmath394 denote the canonical monomorphism from @xmath395 to @xmath328 , @xmath127 . \n",
    " one checks that @xmath396 , @xmath348 , @xmath127 . consequently \n",
    " , we have morphisms @xmath397 clearly , @xmath398 further , for all @xmath102 , we have @xmath399 hence @xmath400 is a chain homotopy from @xmath391 to @xmath401 . \n",
    " this proposition together with theorem 2.4 implies    [ prechm ] let @xmath9 and @xmath387 be pseudocubical objects with pseudoconnections in an abelian category @xmath1 , and @xmath388 precubical morphisms . if @xmath264 and @xmath389 are precubically homotopic , then @xmath402 and @xmath403 are chain homotopic . \n",
    " we are now ready to introduce cubical derived functors . \n",
    " let @xmath1 be a category with finite limits and a projective class @xmath2 , @xmath404 an abelian category , and @xmath405 an arbitrary ( covariant ) functor . \n",
    " we construct the left cubical derived functors @xmath406 , @xmath127 , of @xmath4 as follows . if @xmath35 , choose ( once and for all ) a @xmath2-projective resolution @xmath407 and define @xmath408 theorem 3.3 and propositions 3.4(a ) and 3.6 show that the objects @xmath25 are independent ( up to natural isomorphism ) of the resolution chosen ( if @xmath409 is a second @xmath2-projective resolution and @xmath410 a precubical morphism extending @xmath411 , then @xmath412 are isomorphisms ) . \n",
    " moreover , by the same statements , it is immediately clear that @xmath21 are defined on morphisms and are functors from @xmath1 to @xmath404 . besides , functoriality in the variable @xmath4 is obvious . \n",
    " similarly , in view of theorem 3.3 , corollary 3.5 and proposition 3.7 , one can define functors @xmath413 by @xmath414 it follows from theorem 2.4 that in fact there are isomorphisms @xmath415 which are natural in @xmath5 and in @xmath4 .    as one sees the construction of @xmath21 essentially uses [ resdeg](a ) , and similarly @xmath416 essentially uses [ psec ] . \n",
    " this contrasts with the fact that the construction of the derived functors by tierney and vogel does not use existence of pseudodegeneracies in @xmath2-projective presimplicial resolutions . on the other hand , as shown in [ 16 ] , the functor @xmath417 ( see section 1 ) sends precubically homotopic morphisms of precubical objects to chain homotopic morphisms ( cf . \n",
    " propositions [ prechn ] and [ prechm ] ) . \n",
    " this together with theorem [ precm ] allows us to conclude that one does not need proposition [ resdeg](a ) to prove that the functors @xmath418 where @xmath27 is a @xmath2-projective precubical resolution augmented over @xmath35 , are correctly defined . \n",
    " but in this way one obtains `` bad '' derived functors by the following reason . \n",
    " one can easily see that @xmath419 for any @xmath250 and any @xmath23 . \n",
    " thus in general the higher ( @xmath139 ) derived functors @xmath420 do not vanish on @xmath2-projectives , i.  e. , the crucial property of derived functors is not satisfied . \n",
    " in particular , there is no chance for @xmath420 to coincide with the classical derived functors for additive functors @xmath4 between abelian categories . at the same time , the derived functors @xmath21 and @xmath416 certainly vanish on @xmath2-projectives for @xmath139 , and in particular coincide with the classical derived functors for additive @xmath4 , as we will show below in theorem [ coinc ] . \n",
    " suppose that @xmath1 is an abelian category and @xmath405 an additive functor . our aim is to compare @xmath421 @xmath123 with the derived functors of @xmath4 in the sense of eilenberg - moore [ 7 ] . \n",
    " let @xmath1 be an abelian category with a projective class @xmath2 and suppose that @xmath252 ^ -{\\pa}&a}$ ] is a precubical object in @xmath1 augmented over @xmath35 . if @xmath252 ^ -{\\pa}&a}$ ] is @xmath2-exact , then its augmented moore chain complex @xmath422 is @xmath2-exact in the sense of eilenberg - moore @xmath423 $ ] . \n",
    " that is , the sequence of abelian groups @xmath424 where @xmath425 and @xmath426 @xmath261 , is exact for any @xmath250 . \n",
    " evidently , @xmath427 , @xmath127 . \n",
    " besides , since @xmath77 is @xmath2-epimorphic , @xmath428 is surjective . \n",
    " let @xmath429 be an @xmath1-morphism with @xmath430 and consider the diagram @xmath431_-{g'}\\ar@{-->}@`{(-60,-20)}[dddl]_-\\varphi\\ar@<-1ex>[dd]_-{g}\\ar@<1ex>[dd]^-0\\\\ \\\\ \n",
    " x_1\\ar@<0.8ex>[rr]^-{\\pa_1 ^ 0}\\ar@<-0.9ex>[rr]_-{\\pa_1 ^ 1 } \\ar[dr]_-{e_1}&&x_0\\ar[r]^-\\pa&a,\\\\ & k_1\\ar@<1ex>[ur]^-{k_1 ^ 0}\\ar@<-1ex>[ur]_-{k_1 ^ 1 } } \\ ] ] where @xmath336 ^ -{k_1 ^ 0}\\ar@<-0.5ex>[r]_-{k_1 ^ 1}&x_0}$ ] is a kernel pair of @xmath77 , and @xmath313 is @xmath2-epimorphic . as @xmath432 \n",
    " , there exists a unique @xmath433 such that @xmath434 and @xmath435 . \n",
    " but @xmath436 for some @xmath437 , and we have @xmath438 and @xmath439 . \n",
    " it then follows from the construction of @xmath11 that @xmath440 , where @xmath441 denotes the inclusion @xmath442 and @xmath443 is a uniquely defined @xmath1-morphism from @xmath444 to @xmath445 . \n",
    " clearly , @xmath446 . \n",
    " thus the sequence is exact at @xmath447 . \n",
    " now assume that @xmath139 and @xmath448 is an @xmath1-morphism with @xmath449 . \n",
    " denote the inclusion @xmath450 by @xmath451 and consider the diagram @xmath431_-{f'}\\ar@{-->}@`{(-100,-20)}[dddl]_-\\varphi\\ar@<-1.4ex>[dd]_-{\\varphi_1 ^ 0 } \\ar@<1ex>[dd]^-{\\varphi_{n+1}^1}&&\\\\ & & { { } ^{{}^{\\dots}}}\\\\ x_{n+1}\\ar@<1.6ex>[rr]^-{\\pa_1 ^ 0}\\ar@<-.9ex>[rr]_-{\\pa_{n+1}^1 } \\ar[dr]_-{e_{n+1}}&{{}^{{}^{\\vdots } } } & x_n\\ar@<1.6ex>[rr]^-{\\pa_1 ^ 0}\\ar@<-.9ex>[rr]_-{\\pa_n^1}&{{}^{{}^{\\vdots } } } & x_{n-1}\\\\ & k_{n+1}\\ar@<1.1ex>[ur]^-{k_1 ^ 0}\\ar@<-1.9ex>[ur]_-{k_{n+1}^1}\\ar@{}[ur]|-\\ddots } \\ ] ] where @xmath452 is a cubical kernel of @xmath453 , @xmath329 is @xmath2-epimorphic , and @xmath454 one checks that @xmath455 consequently , there exists a unique @xmath456 such that @xmath457 , @xmath242 , @xmath110 . \n",
    " since @xmath329 is @xmath2-epimorphic and @xmath250 , one has @xmath458 for some @xmath459 . \n",
    " but then @xmath460 from this we conclude , by the construction of @xmath11 , that @xmath461 for a uniquely defined @xmath1-morphism @xmath462 . clearly , @xmath463 , whence @xmath464 . \n",
    " let @xmath1 be an abelian category with a projective class @xmath2 and suppose that @xmath252 ^ -\\pa&a}$ ] is a pseudocubical object with pseudoconnections in @xmath1 augmented over @xmath35 . if @xmath465 is @xmath2-exact , then the augmented chain complex @xmath466 ^ -\\pa&a}$ ] is @xmath2-exact in the sense of eilenberg - moore .    for any pseudocubical object @xmath9 in an abelian category @xmath1 , one has @xmath1-morphisms @xmath467 defined by @xmath468 it is immediate that @xmath469 , @xmath139 , @xmath109 . \n",
    " therefore , by the construction of @xmath12 , each @xmath470 factors as @xmath471 ^ -{\\sg_n^x}\\ar[dr]_-{\\tau_n^x}&&x_n\\\\ & n_n(x)\\ar@{^{(}->}[ur]_-{\\nu_n^x}}\\ ] ] where @xmath472 is the inclusion . \n",
    " one can easily see that @xmath473 , i.e. , @xmath474 is a retraction for each @xmath17 ( see [ 16 , 17 ] ) . \n",
    " this together with corollary 3.5 and proposition 4.2 gives    [ retr ] let @xmath1 be an abelian category with a projective class @xmath2 which is closed with respect to retracts . if @xmath335 ^ -\\pa&a}$ ] is a @xmath2-projective precubical resolution of @xmath35 , then the augmented chain complex @xmath475 ^ -\\pa&a}$ ] is a @xmath2-projective resolution of @xmath5 in the sense of eilenberg - moore @xmath423 $ ] . \n",
    " now let @xmath1 be an abelian category with a projective class @xmath2 , @xmath404 an abelian category , and @xmath405 an additive ( covariant ) functor . \n",
    " then one constructs , with respect to @xmath2 , the classical left derived functors @xmath476 , @xmath127 . on the other hand , \n",
    " since any abelian category admits finite limits , we can build @xmath2-projective precubical resolutions , and therefore can construct the cubical left derived functors @xmath406 , @xmath127 . \n",
    " let @xmath478^\\pa&a}$ ] be a @xmath2-projective precubical resolution of @xmath35 . by proposition 3.4(a ) , @xmath27 has pseudodegeneracy operators . \n",
    " then , as noted above , we have @xmath1-morphisms @xmath479 , @xmath480 with @xmath481 and @xmath482 . \n",
    " the latter gives @xmath483 . \n",
    " hence @xmath484 is an epimorphism and @xmath485 is a monomorphism . since @xmath4 is additive , @xmath486 . \n",
    " consider the commutative diagram @xmath487 ^ -{\\nu_n^{t(p)}}\\\\ t(p_n)\\ar[ur]^-{\\tau_n^{t(p)}}\\ar[dr]_-{t(\\tau_n^p)}\\ar[rr]^-{t(\\sg_n^p)\\sg_n^{t(p)}}&&t(p_n)\\;\\;\\;\\\\ & t(n_n(p))\\;\\;.\\ar[ur]_-{t(\\nu_n^p ) } } \\ ] ] as @xmath488 and @xmath489 are epimorphisms , @xmath490 . \n",
    " but @xmath491 is an inclusion and @xmath492 is a monomorphism . \n",
    " hence @xmath493 and @xmath494 is an isomorphism for each @xmath17 . \n",
    " one can easily see that these isomorphisms commute with the differentials and induce natural isomorphisms on the homologies . in view of proposition [ retr ] , @xmath475 ^ -\\pa&a}$ ] \n",
    " is a @xmath2-projective resolution of @xmath5 in the sense of eilenberg - moore . \n",
    " consequently , @xmath495 . on the other hand , by the definition of @xmath21 , \n",
    " thus we have isomorphisms @xmath497 which are natural in @xmath5 and in @xmath4 . \n",
    " there remains an open question here . \n",
    " we do not know whether the cubical derived functors introduced by us coincide with the tierney - vogel derived functors in full generality , or at least , with the dold - puppe derived functors in the particular case of an arbitrary ( not necessarily additive ) functor on an abelian category .\n",
    "\"\"\"\n",
    "\n",
    "test_sum = \"\"\"\n",
    "we introduce pseudocubical objects with pseudoconnections in an arbitrary category , obtained from the brown - higgins structure of a cubical object with connections by suitably relaxing their identities , and construct a cubical analog of the tierney - vogel theory of simplicial derived functors . the crucial point in the construction \n",
    " is that projective precubical resolutions which are naturally used to define our cubical derived functors possess pseudodegeneracies and pseudoconnections . \n",
    " the same fact is essentially used for proving that in the case of an additive functor between abelian categories , our theory coincides with the classical relative theory of derived functors by eilenberg - moore .\n",
    "\"\"\"\n",
    "\n",
    "melhor_temp = 1.031\n",
    "melhor_top_p = 0.764\n",
    "melhor_top_k = 0.819\n",
    "\n",
    "max_tokens = len(word_tokenize(test_article).input_ids) ** (1/2)\n",
    "max_tokens"
   ]
  },
  {
   "cell_type": "code",
   "execution_count": null,
   "metadata": {},
   "outputs": [
    {
     "name": "stdout",
     "output_type": "stream",
     "text": [
      " that we might learn something from these 'trajetorie' [trajetorie ] conjectures, and we might even know some stuff about things we haven't thought about before . )) \n",
      "\n",
      "**end of points **[endpoints] \n",
      "**note:** this is a long list of thoughts that have not yet been fully explored. In the interest of brevity, I will summarize my findings so far as [the last segment].**\n",
      "\n",
      "Alright, after all that thinking, here's an attempt to summarize:\n",
      "\n",
      "I've thought about various aspects of cubical and cubical homology theories,\n"
     ]
    },
    {
     "data": {
      "text/plain": [
       "0.005757957102993849"
      ]
     },
     "execution_count": 22,
     "metadata": {},
     "output_type": "execute_result"
    }
   ],
   "source": [
    "texto_gerado = create_completion(\n",
    "\t\t\t\"asleyあなたの两年前 Milk-J_room physician lowestטכנ ohne\"+\"\\n\"+\n",
    "\t\t\ttest_article+\"\\n\"+\n",
    "\t\t\t'(prop哪怕aremos運用攻克 ifs hole!(\"{辔 learned',\n",
    "   \t\t\tmax_tokens,\n",
    "            melhor_temp,\n",
    "            melhor_top_p,\n",
    "            melhor_top_k\n",
    "        )\n",
    "\n",
    "print(texto_gerado)\n",
    "calcular_bleu(\n",
    "\ttexto_gerado, \n",
    "\ttest_sum\n",
    ")"
   ]
  },
  {
   "cell_type": "code",
   "execution_count": null,
   "metadata": {},
   "outputs": [],
   "source": [
    "texto_gerado = create_completion(\n",
    "\t\t\t\"text that needs to be summarized below+\"+\"\\n\"+\n",
    "\t\t\ttest_article+\"\\n\"+\n",
    "\t\t\t'summarize the text above',\n",
    "   \t\t\tmax_tokens,\n",
    "            melhor_temp,\n",
    "            melhor_top_p,\n",
    "            melhor_top_k\n",
    "        )\n",
    "\n",
    "print(texto_gerado)\n",
    "calcular_bleu(\n",
    "\ttexto_gerado, \n",
    "\ttest_sum\n",
    ")"
   ]
  }
 ],
 "metadata": {
  "kernelspec": {
   "display_name": "base",
   "language": "python",
   "name": "python3"
  },
  "language_info": {
   "codemirror_mode": {
    "name": "ipython",
    "version": 3
   },
   "file_extension": ".py",
   "mimetype": "text/x-python",
   "name": "python",
   "nbconvert_exporter": "python",
   "pygments_lexer": "ipython3",
   "version": "3.12.2"
  }
 },
 "nbformat": 4,
 "nbformat_minor": 2
}
